{
 "cells": [
  {
   "cell_type": "code",
   "execution_count": 1,
   "id": "d1a64650-161b-48ea-9f52-2b20477afdcd",
   "metadata": {
    "tags": []
   },
   "outputs": [
    {
     "data": {
      "text/plain": [
       "2222222222222222"
      ]
     },
     "execution_count": 1,
     "metadata": {},
     "output_type": "execute_result"
    }
   ],
   "source": [
    "2222222222222222"
   ]
  },
  {
   "cell_type": "code",
   "execution_count": 2,
   "id": "12d687a1-6852-4fd3-b4ca-9e593dfcc172",
   "metadata": {},
   "outputs": [
    {
     "data": {
      "text/plain": [
       "5555555555555555"
      ]
     },
     "execution_count": 2,
     "metadata": {},
     "output_type": "execute_result"
    }
   ],
   "source": [
    "5555555555555555"
   ]
  },
  {
   "cell_type": "code",
   "execution_count": null,
   "id": "c5787f55-cc31-42e4-b2b8-6e2c77513ca8",
   "metadata": {},
   "outputs": [],
   "source": []
  }
 ],
 "metadata": {
  "kernelspec": {
   "display_name": "Python 3 (ipykernel)",
   "language": "python",
   "name": "python3"
  },
  "language_info": {
   "codemirror_mode": {
    "name": "ipython",
    "version": 3
   },
   "file_extension": ".py",
   "mimetype": "text/x-python",
   "name": "python",
   "nbconvert_exporter": "python",
   "pygments_lexer": "ipython3",
   "version": "3.11.5"
  }
 },
 "nbformat": 4,
 "nbformat_minor": 5
}
