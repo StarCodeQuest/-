{
 "cells": [
  {
   "cell_type": "code",
   "execution_count": 1,
   "id": "9c8508c8-8929-46ca-bef5-29579a24356b",
   "metadata": {
    "execution": {
     "iopub.execute_input": "2024-04-11T14:24:04.280565Z",
     "iopub.status.busy": "2024-04-11T14:24:04.280565Z",
     "iopub.status.idle": "2024-04-11T14:24:05.915486Z",
     "shell.execute_reply": "2024-04-11T14:24:05.915486Z",
     "shell.execute_reply.started": "2024-04-11T14:24:04.280565Z"
    }
   },
   "outputs": [],
   "source": [
    "import pandas as pd\n",
    "import numpy as np\n",
    "import os\n",
    "from joblib import dump, load\n",
    "import joblib\n",
    "from sklearn.ensemble import RandomForestClassifier\n",
    "from sklearn.model_selection import train_test_split, GridSearchCV\n",
    "from sklearn.metrics import accuracy_score, roc_auc_score, confusion_matrix, recall_score, precision_score, roc_auc_score, f1_score\n",
    "import xgboost as xgb\n",
    "import lightgbm as lgb\n",
    "from sklearn.svm import SVC\n",
    "from sklearn.tree import DecisionTreeClassifier\n",
    "from sklearn.metrics import roc_curve"
   ]
  },
  {
   "cell_type": "code",
   "execution_count": 3,
   "id": "1f5d667a-e25a-4fef-bfc1-2fbf93856715",
   "metadata": {
    "execution": {
     "iopub.execute_input": "2024-04-11T14:38:58.938446Z",
     "iopub.status.busy": "2024-04-11T14:38:58.938446Z",
     "iopub.status.idle": "2024-04-11T14:43:39.134211Z",
     "shell.execute_reply": "2024-04-11T14:43:39.134211Z",
     "shell.execute_reply.started": "2024-04-11T14:38:58.938446Z"
    }
   },
   "outputs": [
    {
     "name": "stderr",
     "output_type": "stream",
     "text": [
      "C:\\Users\\Tunan\\AppData\\Roaming\\Python\\Python311\\site-packages\\sklearn\\metrics\\_classification.py:1509: UndefinedMetricWarning: Precision is ill-defined and being set to 0.0 due to no predicted samples. Use `zero_division` parameter to control this behavior.\n",
      "  _warn_prf(average, modifier, f\"{metric.capitalize()} is\", len(result))\n",
      "C:\\Users\\Tunan\\AppData\\Roaming\\Python\\Python311\\site-packages\\sklearn\\metrics\\_classification.py:1509: UndefinedMetricWarning: Precision is ill-defined and being set to 0.0 due to no predicted samples. Use `zero_division` parameter to control this behavior.\n",
      "  _warn_prf(average, modifier, f\"{metric.capitalize()} is\", len(result))\n",
      "C:\\Users\\Tunan\\AppData\\Roaming\\Python\\Python311\\site-packages\\sklearn\\metrics\\_classification.py:1509: UndefinedMetricWarning: Precision is ill-defined and being set to 0.0 due to no predicted samples. Use `zero_division` parameter to control this behavior.\n",
      "  _warn_prf(average, modifier, f\"{metric.capitalize()} is\", len(result))\n",
      "C:\\Users\\Tunan\\AppData\\Roaming\\Python\\Python311\\site-packages\\sklearn\\metrics\\_classification.py:1509: UndefinedMetricWarning: Precision is ill-defined and being set to 0.0 due to no predicted samples. Use `zero_division` parameter to control this behavior.\n",
      "  _warn_prf(average, modifier, f\"{metric.capitalize()} is\", len(result))\n",
      "C:\\Users\\Tunan\\AppData\\Roaming\\Python\\Python311\\site-packages\\sklearn\\metrics\\_classification.py:1509: UndefinedMetricWarning: Precision is ill-defined and being set to 0.0 due to no predicted samples. Use `zero_division` parameter to control this behavior.\n",
      "  _warn_prf(average, modifier, f\"{metric.capitalize()} is\", len(result))\n",
      "C:\\Users\\Tunan\\AppData\\Roaming\\Python\\Python311\\site-packages\\sklearn\\metrics\\_classification.py:1509: UndefinedMetricWarning: Precision is ill-defined and being set to 0.0 due to no predicted samples. Use `zero_division` parameter to control this behavior.\n",
      "  _warn_prf(average, modifier, f\"{metric.capitalize()} is\", len(result))\n"
     ]
    },
    {
     "name": "stdout",
     "output_type": "stream",
     "text": [
      "模型评估结果已经保存到Excel文件中。\n"
     ]
    }
   ],
   "source": [
    "import os\n",
    "import joblib\n",
    "import pandas as pd\n",
    "import numpy as np\n",
    "from sklearn.metrics import (\n",
    "    confusion_matrix, recall_score, accuracy_score, precision_score,\n",
    "    f1_score, roc_auc_score, roc_curve\n",
    ")\n",
    "\n",
    "# 定义模型路径列表和故障名称映射\n",
    "model_paths = ['./Models/1001', './Models/2001', './Models/4001', './Models/4002', './Models/4003', './Models/5001', './Models/5002', './Models/6001', './Models/6002']\n",
    "fault_mapping = {\n",
    "    '1001': '物料推送装置故障1001',\n",
    "    '2001': '物料检测装置故障2001',\n",
    "    '4001': '填装装置检测故障4001',\n",
    "    '4002': '填装装置定位故障4002',\n",
    "    '4003': '填装装置填装故障4003',\n",
    "    '5001': '加盖装置定位故障5001',\n",
    "    '5002': '加盖装置加盖故障5002',\n",
    "    '6001': '拧盖装置定位故障6001',\n",
    "    '6002': '拧盖装置拧盖故障6002'\n",
    "}\n",
    "\n",
    "# 定义评估函数\n",
    "def evaluate_model(model, X_test, y_test):\n",
    "    y_pred = model.predict(X_test)\n",
    "    y_prob = model.predict_proba(X_test)[:, 1]\n",
    "    tn, fp, fn, tp = confusion_matrix(y_test, y_pred).ravel()\n",
    "    specificity = tn / (tn + fp)\n",
    "    sensitivity = recall_score(y_test, y_pred)\n",
    "    g_mean = np.sqrt(specificity * sensitivity)\n",
    "    fpr, tpr, thresholds = roc_curve(y_test, y_prob)\n",
    "    metrics = {\n",
    "        'Accuracy': accuracy_score(y_test, y_pred),\n",
    "        'Recall': recall_score(y_test, y_pred),\n",
    "        'Precision': precision_score(y_test, y_pred),\n",
    "        'F1-Score': f1_score(y_test, y_pred),\n",
    "        'AUC': roc_auc_score(y_test, y_prob),\n",
    "        'G-Mean': g_mean\n",
    "    }\n",
    "    return metrics\n",
    "\n",
    "# 初始化结果列表\n",
    "results = []\n",
    "\n",
    "# 加载和评估每个模型\n",
    "for model_path in model_paths:\n",
    "    folder_name = os.path.basename(model_path)\n",
    "    fault_name = fault_mapping[folder_name]  # 使用映射来获取完整的故障名称\n",
    "    df_test = pd.read_csv('./Datasets/附件1/M101.csv')  # 读取测试数据集\n",
    "    # 假设 df_test 是你的测试数据集\n",
    "    selected_columns = ['时间', '物料推送气缸推送状态', '物料推送气缸收回状态', '物料推送数', '物料待抓取数',\n",
    "                    '放置容器数', '容器上传检测数', '填装检测数', '填装定位器固定状态', '填装定位器放开状态', \n",
    "                    '物料抓取数', '填装旋转数', '填装下降数', '填装数', '加盖检测数', '加盖定位数', \n",
    "                    '推盖数', '加盖下降数', '加盖数', '拧盖检测数', '拧盖定位数', '拧盖下降数', \n",
    "                    '拧盖旋转数', '拧盖数', '合格数', '不合格数']\n",
    "\n",
    "    # 将目标列作为 y\n",
    "    df_test[fault_name] = df_test[fault_name].apply(lambda x : 0 if x == 0 else 1)\n",
    "    y_test = df_test[fault_name].to_numpy()\n",
    "    \n",
    "    # 从测试集中提取所选列\n",
    "    df_test_selected = df_test[selected_columns]\n",
    "    X_test = df_test_selected\n",
    "\n",
    "    for model_file in os.listdir(model_path):\n",
    "        if model_file.endswith('.joblib'):\n",
    "            full_path = os.path.join(model_path, model_file)\n",
    "            model = joblib.load(full_path)\n",
    "            metrics = evaluate_model(model, X_test, y_test)\n",
    "            \n",
    "            # 从文件名解析模型类型和数据处理方法，并添加模型路径或故障名称\n",
    "            model_type, data_handling = model_file.split('_')[:2]\n",
    "            \n",
    "            metrics['Model'] = model_type\n",
    "            metrics['Data Handling'] = data_handling\n",
    "            metrics['Model File'] = model_file\n",
    "            metrics['Fault Name'] = fault_name  # 添加故障名称\n",
    "            metrics['Model Path'] = model_path  # 添加模型路径\n",
    "            results.append(metrics)\n",
    "\n",
    "# 将结果转换为DataFrame\n",
    "results_df = pd.DataFrame(results)\n",
    "\n",
    "# 将结果保存到Excel文件中\n",
    "results_df.to_excel('./models/model_evaluation_summary.xlsx', index=False)\n",
    "\n",
    "print(\"模型评估结果已经保存到Excel文件中。\")"
   ]
  }
 ],
 "metadata": {
  "kernelspec": {
   "display_name": "Python 3 (ipykernel)",
   "language": "python",
   "name": "python3"
  },
  "language_info": {
   "codemirror_mode": {
    "name": "ipython",
    "version": 3
   },
   "file_extension": ".py",
   "mimetype": "text/x-python",
   "name": "python",
   "nbconvert_exporter": "python",
   "pygments_lexer": "ipython3",
   "version": "3.11.5"
  }
 },
 "nbformat": 4,
 "nbformat_minor": 5
}
