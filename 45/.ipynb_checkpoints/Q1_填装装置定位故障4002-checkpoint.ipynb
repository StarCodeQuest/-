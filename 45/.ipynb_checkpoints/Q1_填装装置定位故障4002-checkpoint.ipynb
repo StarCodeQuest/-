{
 "cells": [
  {
   "cell_type": "markdown",
   "id": "e230b930-a53d-41a5-af65-90e053b37ba0",
   "metadata": {},
   "source": [
    "# 导入部分"
   ]
  },
  {
   "cell_type": "code",
   "execution_count": 1,
   "id": "a6886093-1d90-4f1f-8ab8-c42e20d502d3",
   "metadata": {
    "tags": []
   },
   "outputs": [],
   "source": [
    "# 导入数据操作和数学运算需要的库\n",
    "import pandas as pd\n",
    "import numpy as np\n",
    "from math import sqrt\n",
    "\n",
    "import os\n",
    "import joblib\n",
    "\n",
    "# 导入机器学习模型和评估指标\n",
    "from sklearn.tree import DecisionTreeRegressor, DecisionTreeClassifier\n",
    "from sklearn.ensemble import RandomForestRegressor, AdaBoostRegressor, GradientBoostingRegressor\n",
    "from sklearn.ensemble import RandomForestClassifier, AdaBoostClassifier, GradientBoostingClassifier\n",
    "from sklearn.metrics import accuracy_score, recall_score, f1_score, roc_curve, auc, classification_report\n",
    "from sklearn.linear_model import LogisticRegression\n",
    "\n",
    "# 导入模型训练和评估工具\n",
    "from sklearn.model_selection import train_test_split\n",
    "\n",
    "# 导入可视化库\n",
    "import matplotlib.pyplot as plt\n",
    "import seaborn as sns\n",
    "\n",
    "# 导入XGBoost，一个高效的机器学习算法\n",
    "import xgboost as xgb\n",
    "\n",
    "# 设置警告过滤器以忽略不必要的警告\n",
    "import warnings\n",
    "warnings.filterwarnings('ignore')\n",
    "\n",
    "# 配置matplotlib以支持中文字符，并进行美观调整\n",
    "plt.rcParams['font.sans-serif'] = ['simhei']  # 设置sans-serif字体为simhei\n",
    "plt.rcParams['font.serif'] = ['simhei']       # 设置serif字体为simhei\n",
    "plt.rcParams['axes.unicode_minus'] = False    # 确保负号显示正常\n",
    "\n",
    "# 配置seaborn以保持一致的美学风格和字体支持\n",
    "sns.set_style(\"darkgrid\", {\"font.sans-serif\": ['simhei', 'Droid Sans Fallback']})"
   ]
  },
  {
   "cell_type": "code",
   "execution_count": 2,
   "id": "64a1a254-afb0-4c6b-b593-0b504b5bd1b9",
   "metadata": {
    "tags": []
   },
   "outputs": [
    {
     "data": {
      "text/html": [
       "<div>\n",
       "<style scoped>\n",
       "    .dataframe tbody tr th:only-of-type {\n",
       "        vertical-align: middle;\n",
       "    }\n",
       "\n",
       "    .dataframe tbody tr th {\n",
       "        vertical-align: top;\n",
       "    }\n",
       "\n",
       "    .dataframe thead th {\n",
       "        text-align: right;\n",
       "    }\n",
       "</style>\n",
       "<table border=\"1\" class=\"dataframe\">\n",
       "  <thead>\n",
       "    <tr style=\"text-align: right;\">\n",
       "      <th></th>\n",
       "      <th>日期</th>\n",
       "      <th>时间</th>\n",
       "      <th>生产线编号</th>\n",
       "      <th>物料推送气缸推送状态</th>\n",
       "      <th>物料推送气缸收回状态</th>\n",
       "      <th>物料推送数</th>\n",
       "      <th>物料待抓取数</th>\n",
       "      <th>放置容器数</th>\n",
       "      <th>容器上传检测数</th>\n",
       "      <th>填装检测数</th>\n",
       "      <th>...</th>\n",
       "      <th>不合格数</th>\n",
       "      <th>物料推送装置故障1001</th>\n",
       "      <th>物料检测装置故障2001</th>\n",
       "      <th>填装装置检测故障4001</th>\n",
       "      <th>填装装置定位故障4002</th>\n",
       "      <th>填装装置填装故障4003</th>\n",
       "      <th>加盖装置定位故障5001</th>\n",
       "      <th>加盖装置加盖故障5002</th>\n",
       "      <th>拧盖装置定位故障6001</th>\n",
       "      <th>拧盖装置拧盖故障6002</th>\n",
       "    </tr>\n",
       "  </thead>\n",
       "  <tbody>\n",
       "    <tr>\n",
       "      <th>0</th>\n",
       "      <td>1</td>\n",
       "      <td>0</td>\n",
       "      <td>M101</td>\n",
       "      <td>0</td>\n",
       "      <td>1</td>\n",
       "      <td>0</td>\n",
       "      <td>0</td>\n",
       "      <td>0</td>\n",
       "      <td>0</td>\n",
       "      <td>0</td>\n",
       "      <td>...</td>\n",
       "      <td>0</td>\n",
       "      <td>0</td>\n",
       "      <td>0</td>\n",
       "      <td>0</td>\n",
       "      <td>0</td>\n",
       "      <td>0</td>\n",
       "      <td>0</td>\n",
       "      <td>0</td>\n",
       "      <td>0</td>\n",
       "      <td>0</td>\n",
       "    </tr>\n",
       "    <tr>\n",
       "      <th>1</th>\n",
       "      <td>1</td>\n",
       "      <td>1</td>\n",
       "      <td>M101</td>\n",
       "      <td>1</td>\n",
       "      <td>0</td>\n",
       "      <td>1</td>\n",
       "      <td>0</td>\n",
       "      <td>0</td>\n",
       "      <td>0</td>\n",
       "      <td>0</td>\n",
       "      <td>...</td>\n",
       "      <td>0</td>\n",
       "      <td>0</td>\n",
       "      <td>0</td>\n",
       "      <td>0</td>\n",
       "      <td>0</td>\n",
       "      <td>0</td>\n",
       "      <td>0</td>\n",
       "      <td>0</td>\n",
       "      <td>0</td>\n",
       "      <td>0</td>\n",
       "    </tr>\n",
       "    <tr>\n",
       "      <th>2</th>\n",
       "      <td>1</td>\n",
       "      <td>2</td>\n",
       "      <td>M101</td>\n",
       "      <td>0</td>\n",
       "      <td>1</td>\n",
       "      <td>1</td>\n",
       "      <td>0</td>\n",
       "      <td>0</td>\n",
       "      <td>0</td>\n",
       "      <td>0</td>\n",
       "      <td>...</td>\n",
       "      <td>0</td>\n",
       "      <td>0</td>\n",
       "      <td>0</td>\n",
       "      <td>0</td>\n",
       "      <td>0</td>\n",
       "      <td>0</td>\n",
       "      <td>0</td>\n",
       "      <td>0</td>\n",
       "      <td>0</td>\n",
       "      <td>0</td>\n",
       "    </tr>\n",
       "    <tr>\n",
       "      <th>3</th>\n",
       "      <td>1</td>\n",
       "      <td>3</td>\n",
       "      <td>M101</td>\n",
       "      <td>1</td>\n",
       "      <td>0</td>\n",
       "      <td>2</td>\n",
       "      <td>0</td>\n",
       "      <td>0</td>\n",
       "      <td>0</td>\n",
       "      <td>0</td>\n",
       "      <td>...</td>\n",
       "      <td>0</td>\n",
       "      <td>0</td>\n",
       "      <td>0</td>\n",
       "      <td>0</td>\n",
       "      <td>0</td>\n",
       "      <td>0</td>\n",
       "      <td>0</td>\n",
       "      <td>0</td>\n",
       "      <td>0</td>\n",
       "      <td>0</td>\n",
       "    </tr>\n",
       "    <tr>\n",
       "      <th>4</th>\n",
       "      <td>1</td>\n",
       "      <td>4</td>\n",
       "      <td>M101</td>\n",
       "      <td>0</td>\n",
       "      <td>1</td>\n",
       "      <td>2</td>\n",
       "      <td>1</td>\n",
       "      <td>1</td>\n",
       "      <td>0</td>\n",
       "      <td>0</td>\n",
       "      <td>...</td>\n",
       "      <td>0</td>\n",
       "      <td>0</td>\n",
       "      <td>0</td>\n",
       "      <td>0</td>\n",
       "      <td>0</td>\n",
       "      <td>0</td>\n",
       "      <td>0</td>\n",
       "      <td>0</td>\n",
       "      <td>0</td>\n",
       "      <td>0</td>\n",
       "    </tr>\n",
       "  </tbody>\n",
       "</table>\n",
       "<p>5 rows × 37 columns</p>\n",
       "</div>"
      ],
      "text/plain": [
       "   日期  时间 生产线编号  物料推送气缸推送状态  物料推送气缸收回状态  物料推送数  物料待抓取数  放置容器数  容器上传检测数  填装检测数  \\\n",
       "0   1   0  M101           0           1      0       0      0        0      0   \n",
       "1   1   1  M101           1           0      1       0      0        0      0   \n",
       "2   1   2  M101           0           1      1       0      0        0      0   \n",
       "3   1   3  M101           1           0      2       0      0        0      0   \n",
       "4   1   4  M101           0           1      2       1      1        0      0   \n",
       "\n",
       "   ...  不合格数  物料推送装置故障1001  物料检测装置故障2001  填装装置检测故障4001  填装装置定位故障4002  \\\n",
       "0  ...     0             0             0             0             0   \n",
       "1  ...     0             0             0             0             0   \n",
       "2  ...     0             0             0             0             0   \n",
       "3  ...     0             0             0             0             0   \n",
       "4  ...     0             0             0             0             0   \n",
       "\n",
       "   填装装置填装故障4003  加盖装置定位故障5001  加盖装置加盖故障5002  拧盖装置定位故障6001  拧盖装置拧盖故障6002  \n",
       "0             0             0             0             0             0  \n",
       "1             0             0             0             0             0  \n",
       "2             0             0             0             0             0  \n",
       "3             0             0             0             0             0  \n",
       "4             0             0             0             0             0  \n",
       "\n",
       "[5 rows x 37 columns]"
      ]
     },
     "execution_count": 2,
     "metadata": {},
     "output_type": "execute_result"
    }
   ],
   "source": [
    "data = pd.read_csv('./Datasets/附件1/M101.csv')\n",
    "data.head()"
   ]
  },
  {
   "cell_type": "code",
   "execution_count": 3,
   "id": "b38603f0-11b6-4eda-9eb4-c2252ec8e200",
   "metadata": {
    "tags": []
   },
   "outputs": [],
   "source": [
    "# TODO 日期，生产线编号 被去掉了\n",
    "X = data[[ '时间', '物料推送气缸推送状态', '物料推送气缸收回状态', '物料推送数', '物料待抓取数',\n",
    "       '放置容器数', '容器上传检测数', '填装检测数', '填装定位器固定状态', '填装定位器放开状态', '物料抓取数', '填装旋转数',\n",
    "       '填装下降数', '填装数', '加盖检测数', '加盖定位数', '推盖数', '加盖下降数', '加盖数', '拧盖检测数',\n",
    "       '拧盖定位数', '拧盖下降数', '拧盖旋转数', '拧盖数', '合格数', '不合格数']]"
   ]
  },
  {
   "cell_type": "code",
   "execution_count": 4,
   "id": "9a162644-fa9b-4fe4-a065-606d360e94ee",
   "metadata": {
    "tags": []
   },
   "outputs": [],
   "source": [
    "# 把故障处理为 0 和 1\n",
    "data['填装装置定位故障4002'] = data['填装装置定位故障4002'].apply(lambda x : 0 if x == 0 else 1 )\n",
    "Y = data['填装装置定位故障4002']"
   ]
  },
  {
   "cell_type": "code",
   "execution_count": 5,
   "id": "1ac5ee15-c310-46e6-b8f8-658bf9f31537",
   "metadata": {
    "tags": []
   },
   "outputs": [
    {
     "data": {
      "text/plain": [
       "填装装置定位故障4002\n",
       "0    633576\n",
       "1      2933\n",
       "Name: count, dtype: int64"
      ]
     },
     "execution_count": 5,
     "metadata": {},
     "output_type": "execute_result"
    }
   ],
   "source": [
    "data['填装装置定位故障4002'].value_counts()"
   ]
  },
  {
   "cell_type": "code",
   "execution_count": 6,
   "id": "8cbf4916-249e-4ed4-a0e1-5fa6c5817fa6",
   "metadata": {
    "tags": []
   },
   "outputs": [
    {
     "data": {
      "text/plain": [
       "填装装置定位故障4002\n",
       "0    633576\n",
       "1      2933\n",
       "Name: count, dtype: int64"
      ]
     },
     "execution_count": 6,
     "metadata": {},
     "output_type": "execute_result"
    }
   ],
   "source": [
    "data['填装装置定位故障4002'].value_counts()"
   ]
  },
  {
   "cell_type": "markdown",
   "id": "b396faca-c752-4b66-9061-641f065b8525",
   "metadata": {},
   "source": [
    "# 不平衡数据可视化"
   ]
  },
  {
   "cell_type": "code",
   "execution_count": null,
   "id": "07fd45d0-c04c-4349-b704-b82a8a4a231a",
   "metadata": {
    "tags": []
   },
   "outputs": [],
   "source": [
    "import pandas as pd\n",
    "import matplotlib.pyplot as plt\n",
    "\n",
    "# 假设Y是一个包含类别数据的Pandas Series\n",
    "class_counts = pd.value_counts(Y, sort=True).sort_index()\n",
    "\n",
    "# 创建条形图\n",
    "class_counts.plot(kind='bar', rot=0, color='skyblue')\n",
    "\n",
    "# 添加图表的标题和轴标签\n",
    "plt.title('故障与正常运行的数据分布（4002故障）')\n",
    "plt.xlabel('不同类')\n",
    "plt.ylabel('数量')\n",
    "\n",
    "# 设置x轴的刻度标签\n",
    "classes = ['正常运行', '故障']\n",
    "plt.xticks(range(len(classes)), classes)\n",
    "\n",
    "# 显示网格线以便更容易读取具体数值\n",
    "plt.grid(axis='y', linestyle='--', linewidth=0.7)\n",
    "\n",
    "# 显示图表\n",
    "plt.show()"
   ]
  },
  {
   "cell_type": "markdown",
   "id": "56ae274d-c419-42bb-877d-332497629b7e",
   "metadata": {},
   "source": [
    "# 封装模型部分"
   ]
  },
  {
   "cell_type": "code",
   "execution_count": null,
   "id": "2ce17140-7ced-4f9b-8f7f-d6614085ed33",
   "metadata": {
    "tags": []
   },
   "outputs": [],
   "source": [
    "def train_evaluate_save_model(model, model_name, X_train, Y_train, X_test, Y_test, axs, plot_row, plot_col, save_path, ways):\n",
    "    # 训练模型并评估其性能\n",
    "    model.fit(X_train, Y_train)\n",
    "    y_pred = model.predict(X_test)\n",
    "    print(f'{model_name} 模型评价结果：')\n",
    "    print(\"ACC\", accuracy_score(Y_test, y_pred))\n",
    "    print(\"REC\", recall_score(Y_test, y_pred))\n",
    "    print(\"F-score\", f1_score(Y_test, y_pred))\n",
    "    print(classification_report(Y_test, y_pred))\n",
    "\n",
    "    # 计算并绘制ROC曲线\n",
    "    y_pred_prob = model.predict_proba(X_test)[:, 1]\n",
    "    fpr, tpr, thresholds = roc_curve(Y_test, y_pred_prob)\n",
    "    roc_auc = auc(fpr, tpr)\n",
    "    axs[plot_row][plot_col].plot(fpr, tpr, color='darkorange', lw=2)\n",
    "    axs[plot_row][plot_col].plot([0, 1], [0, 1], color='navy', lw=2, linestyle='--')\n",
    "    axs[plot_row][plot_col].set_xlim([0.0, 1.0])\n",
    "    axs[plot_row][plot_col].set_ylim([0.0, 1.05])\n",
    "    axs[plot_row][plot_col].set_xlabel('假阳性率')\n",
    "    axs[plot_row][plot_col].set_ylabel('真阳性率')\n",
    "    axs[plot_row][plot_col].set_title(f'{model_name} ROC (AUC = {roc_auc:.2f})')\n",
    "\n",
    "    # 保存模型\n",
    "    # model_path = os.path.join(save_path, model_name)\n",
    "    model_path = save_path\n",
    "    os.makedirs(model_path, exist_ok=True)\n",
    "    joblib.dump(model, os.path.join(model_path, f'{model_name}_{ways}.joblib'))"
   ]
  },
  {
   "cell_type": "markdown",
   "id": "87e54d7c-f265-4669-9c67-6ebfacedd23a",
   "metadata": {},
   "source": [
    "# 不同模型汇总"
   ]
  },
  {
   "cell_type": "markdown",
   "id": "d81a12a5-f7c7-4811-9784-179e4648f0d4",
   "metadata": {},
   "source": [
    "## 原数据"
   ]
  },
  {
   "cell_type": "code",
   "execution_count": null,
   "id": "19343c7a-9a9c-456f-a38c-6fe2b61d3160",
   "metadata": {
    "tags": []
   },
   "outputs": [],
   "source": [
    "X_train, X_test, Y_train, Y_test = train_test_split(X, Y, test_size=0.25)\n",
    "\n",
    "# 定义模型和配置\n",
    "models = {\n",
    "    '逻辑回归': LogisticRegression(),\n",
    "    'XGBoost': xgb.XGBClassifier(n_estimators=100, max_depth=3, learning_rate=0.1, random_state=42),\n",
    "    '决策树': DecisionTreeClassifier(random_state=42),\n",
    "    '随机森林': RandomForestClassifier(n_estimators=100, max_depth=3, random_state=42)\n",
    "}\n",
    "\n",
    "# 创建绘图区域\n",
    "fig, axs = plt.subplots(2, 3, figsize=(15, 10))\n",
    "\n",
    "# 训练、评估、绘图并保存每个模型\n",
    "for i, (name, model) in enumerate(models.items()):\n",
    "    train_evaluate_save_model(model, name, X_train, Y_train, X_test, Y_test, axs, i // 3, i % 3, './Models/4002/', '原数据')\n",
    "plt.tight_layout()\n",
    "plt.show()"
   ]
  },
  {
   "cell_type": "code",
   "execution_count": null,
   "id": "dce5d9d0-324e-4de1-acd8-8754a5e08a8c",
   "metadata": {
    "tags": []
   },
   "outputs": [],
   "source": [
    "fig.savefig('./Images/%sROC_原始数据.png'%'填装装置定位故障4002')"
   ]
  },
  {
   "cell_type": "markdown",
   "id": "f67e45df-9aff-492a-9549-3324e1de3b55",
   "metadata": {},
   "source": [
    "## SMOTE过采样"
   ]
  },
  {
   "cell_type": "code",
   "execution_count": null,
   "id": "68b51963-bab7-4873-802c-8bd5ffa1a689",
   "metadata": {
    "tags": []
   },
   "outputs": [],
   "source": [
    "from imblearn.over_sampling import SMOTE\n",
    "X_resampled_SMOTE, y_resampled_SMOTE = SMOTE().fit_resample(X, Y)"
   ]
  },
  {
   "cell_type": "code",
   "execution_count": null,
   "id": "b0caa684-55a3-4cb1-9243-00678180ff6e",
   "metadata": {
    "tags": []
   },
   "outputs": [],
   "source": [
    "from collections import Counter\n",
    "Counter(y_resampled_SMOTE)"
   ]
  },
  {
   "cell_type": "code",
   "execution_count": null,
   "id": "ca559a00-b115-41f5-9622-1908f1bbe564",
   "metadata": {
    "tags": []
   },
   "outputs": [],
   "source": [
    "X_train, X_test, Y_train, Y_test = train_test_split(X_resampled_SMOTE, y_resampled_SMOTE, test_size=0.25)\n",
    "\n",
    "# 定义模型和配置\n",
    "models = {\n",
    "    '逻辑回归': LogisticRegression(),\n",
    "    'XGBoost': xgb.XGBClassifier(n_estimators=100, max_depth=3, learning_rate=0.1, random_state=42),\n",
    "    '决策树': DecisionTreeClassifier(random_state=42),\n",
    "    '随机森林': RandomForestClassifier(n_estimators=100, max_depth=3, random_state=42)\n",
    "}\n",
    "\n",
    "# 创建绘图区域\n",
    "fig, axs = plt.subplots(2, 3, figsize=(15, 10))\n",
    "\n",
    "# 训练、评估、绘图并保存每个模型\n",
    "for i, (name, model) in enumerate(models.items()):\n",
    "    train_evaluate_save_model(model, name, X_train, Y_train, X_test, Y_test, axs, i // 3, i % 3, './Models/4002/', '过采样')\n",
    "plt.tight_layout()\n",
    "plt.show()"
   ]
  },
  {
   "cell_type": "code",
   "execution_count": null,
   "id": "11a568d8-6729-463f-99ef-0682c417c879",
   "metadata": {
    "tags": []
   },
   "outputs": [],
   "source": [
    "fig.savefig('./Images/%sROC_smote.png'%'填装装置定位故障4002')"
   ]
  },
  {
   "cell_type": "markdown",
   "id": "72d308ea-7918-4817-9e0b-f51ca965aae3",
   "metadata": {},
   "source": [
    "## 随机欠采样"
   ]
  },
  {
   "cell_type": "code",
   "execution_count": null,
   "id": "58913bd0-3cf1-451b-b97f-884b1546172e",
   "metadata": {
    "tags": []
   },
   "outputs": [],
   "source": [
    "from imblearn.under_sampling import RandomUnderSampler\n",
    "X_resampled_RandomUnderSampler, y_resampled_RandomUnderSampler = RandomUnderSampler(random_state=42).fit_resample(X, Y)#"
   ]
  },
  {
   "cell_type": "code",
   "execution_count": null,
   "id": "03da0443-06f4-4a54-9a3a-5a5f97480144",
   "metadata": {
    "tags": []
   },
   "outputs": [],
   "source": [
    "Counter(y_resampled_RandomUnderSampler)"
   ]
  },
  {
   "cell_type": "code",
   "execution_count": null,
   "id": "527812ac-b84e-4e86-9304-e05fdbdcf270",
   "metadata": {
    "tags": []
   },
   "outputs": [],
   "source": [
    "X_train, X_test, Y_train, Y_test = train_test_split(X_resampled_RandomUnderSampler, y_resampled_RandomUnderSampler, test_size=0.25)\n",
    "# 定义模型和配置\n",
    "models = {\n",
    "    '逻辑回归': LogisticRegression(),\n",
    "    'XGBoost': xgb.XGBClassifier(n_estimators=100, max_depth=3, learning_rate=0.1, random_state=42),\n",
    "    '决策树': DecisionTreeClassifier(random_state=42),\n",
    "    '随机森林': RandomForestClassifier(n_estimators=100, max_depth=3, random_state=42)\n",
    "}\n",
    "\n",
    "# 创建绘图区域\n",
    "fig, axs = plt.subplots(2, 3, figsize=(15, 10))\n",
    "\n",
    "# 训练、评估、绘图并保存每个模型\n",
    "for i, (name, model) in enumerate(models.items()):\n",
    "    train_evaluate_save_model(model, name, X_train, Y_train, X_test, Y_test, axs, i // 3, i % 3, './Models/4002/', '欠采样')\n",
    "plt.tight_layout()\n",
    "plt.show()"
   ]
  },
  {
   "cell_type": "code",
   "execution_count": null,
   "id": "7f4098c9-ac27-4733-8ed9-6ff6aa11bbf7",
   "metadata": {
    "tags": []
   },
   "outputs": [],
   "source": [
    "fig.savefig('./Images/%sROC_随机欠采样.png'%'填装装置定位故障4002')"
   ]
  }
 ],
 "metadata": {
  "kernelspec": {
   "display_name": "Python 3 (ipykernel)",
   "language": "python",
   "name": "python3"
  },
  "language_info": {
   "codemirror_mode": {
    "name": "ipython",
    "version": 3
   },
   "file_extension": ".py",
   "mimetype": "text/x-python",
   "name": "python",
   "nbconvert_exporter": "python",
   "pygments_lexer": "ipython3",
   "version": "3.11.5"
  }
 },
 "nbformat": 4,
 "nbformat_minor": 5
}
