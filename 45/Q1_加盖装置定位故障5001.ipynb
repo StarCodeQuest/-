{
 "cells": [
  {
   "cell_type": "code",
   "execution_count": 3,
   "id": "a6886093-1d90-4f1f-8ab8-c42e20d502d3",
   "metadata": {
    "execution": {
     "iopub.execute_input": "2024-04-06T14:10:49.583717Z",
     "iopub.status.busy": "2024-04-06T14:10:49.583717Z",
     "iopub.status.idle": "2024-04-06T14:10:49.587431Z",
     "shell.execute_reply": "2024-04-06T14:10:49.587431Z",
     "shell.execute_reply.started": "2024-04-06T14:10:49.583717Z"
    }
   },
   "outputs": [],
   "source": [
    "# 导入数据操作和数学运算需要的库\n",
    "import pandas as pd\n",
    "import numpy as np\n",
    "from math import sqrt\n",
    "\n",
    "# 导入机器学习模型和评估指标\n",
    "from sklearn.tree import DecisionTreeRegressor, DecisionTreeClassifier\n",
    "from sklearn.ensemble import RandomForestRegressor, AdaBoostRegressor, GradientBoostingRegressor\n",
    "from sklearn.ensemble import RandomForestClassifier, AdaBoostClassifier, GradientBoostingClassifier\n",
    "from sklearn.metrics import accuracy_score, recall_score, f1_score, roc_curve, auc, classification_report\n",
    "\n",
    "# 导入模型训练和评估工具\n",
    "from sklearn.model_selection import train_test_split\n",
    "\n",
    "# 导入可视化库\n",
    "import matplotlib.pyplot as plt\n",
    "import seaborn as sns\n",
    "\n",
    "# 导入XGBoost，一个高效的机器学习算法\n",
    "import xgboost as xgb\n",
    "\n",
    "# 设置警告过滤器以忽略不必要的警告\n",
    "import warnings\n",
    "warnings.filterwarnings('ignore')\n",
    "\n",
    "# 配置matplotlib以支持中文字符，并进行美观调整\n",
    "plt.rcParams['font.sans-serif'] = ['simhei']  # 设置sans-serif字体为simhei\n",
    "plt.rcParams['font.serif'] = ['simhei']       # 设置serif字体为simhei\n",
    "plt.rcParams['axes.unicode_minus'] = False    # 确保负号显示正常\n",
    "\n",
    "# 配置seaborn以保持一致的美学风格和字体支持\n",
    "sns.set_style(\"darkgrid\", {\"font.sans-serif\": ['simhei', 'Droid Sans Fallback']})"
   ]
  },
  {
   "cell_type": "code",
   "execution_count": 2,
   "id": "64a1a254-afb0-4c6b-b593-0b504b5bd1b9",
   "metadata": {
    "execution": {
     "iopub.execute_input": "2024-04-06T14:10:14.011882Z",
     "iopub.status.busy": "2024-04-06T14:10:14.011882Z",
     "iopub.status.idle": "2024-04-06T14:10:14.476836Z",
     "shell.execute_reply": "2024-04-06T14:10:14.476836Z",
     "shell.execute_reply.started": "2024-04-06T14:10:14.011882Z"
    }
   },
   "outputs": [
    {
     "ename": "FileNotFoundError",
     "evalue": "[Errno 2] No such file or directory: 'A题-示例数据/附件1/M101.csv'",
     "output_type": "error",
     "traceback": [
      "\u001b[1;31m---------------------------------------------------------------------------\u001b[0m",
      "\u001b[1;31mFileNotFoundError\u001b[0m                         Traceback (most recent call last)",
      "Cell \u001b[1;32mIn[2], line 1\u001b[0m\n\u001b[1;32m----> 1\u001b[0m data\u001b[38;5;241m=\u001b[39m\u001b[43mpd\u001b[49m\u001b[38;5;241;43m.\u001b[39;49m\u001b[43mread_csv\u001b[49m\u001b[43m(\u001b[49m\u001b[38;5;124;43m'\u001b[39;49m\u001b[38;5;124;43mA题-示例数据/附件1/M101.csv\u001b[39;49m\u001b[38;5;124;43m'\u001b[39;49m\u001b[43m)\u001b[49m\n\u001b[0;32m      2\u001b[0m data\u001b[38;5;241m.\u001b[39mhead()\n",
      "File \u001b[1;32m~\\AppData\\Roaming\\Python\\Python311\\site-packages\\pandas\\io\\parsers\\readers.py:1026\u001b[0m, in \u001b[0;36mread_csv\u001b[1;34m(filepath_or_buffer, sep, delimiter, header, names, index_col, usecols, dtype, engine, converters, true_values, false_values, skipinitialspace, skiprows, skipfooter, nrows, na_values, keep_default_na, na_filter, verbose, skip_blank_lines, parse_dates, infer_datetime_format, keep_date_col, date_parser, date_format, dayfirst, cache_dates, iterator, chunksize, compression, thousands, decimal, lineterminator, quotechar, quoting, doublequote, escapechar, comment, encoding, encoding_errors, dialect, on_bad_lines, delim_whitespace, low_memory, memory_map, float_precision, storage_options, dtype_backend)\u001b[0m\n\u001b[0;32m   1013\u001b[0m kwds_defaults \u001b[38;5;241m=\u001b[39m _refine_defaults_read(\n\u001b[0;32m   1014\u001b[0m     dialect,\n\u001b[0;32m   1015\u001b[0m     delimiter,\n\u001b[1;32m   (...)\u001b[0m\n\u001b[0;32m   1022\u001b[0m     dtype_backend\u001b[38;5;241m=\u001b[39mdtype_backend,\n\u001b[0;32m   1023\u001b[0m )\n\u001b[0;32m   1024\u001b[0m kwds\u001b[38;5;241m.\u001b[39mupdate(kwds_defaults)\n\u001b[1;32m-> 1026\u001b[0m \u001b[38;5;28;01mreturn\u001b[39;00m \u001b[43m_read\u001b[49m\u001b[43m(\u001b[49m\u001b[43mfilepath_or_buffer\u001b[49m\u001b[43m,\u001b[49m\u001b[43m \u001b[49m\u001b[43mkwds\u001b[49m\u001b[43m)\u001b[49m\n",
      "File \u001b[1;32m~\\AppData\\Roaming\\Python\\Python311\\site-packages\\pandas\\io\\parsers\\readers.py:620\u001b[0m, in \u001b[0;36m_read\u001b[1;34m(filepath_or_buffer, kwds)\u001b[0m\n\u001b[0;32m    617\u001b[0m _validate_names(kwds\u001b[38;5;241m.\u001b[39mget(\u001b[38;5;124m\"\u001b[39m\u001b[38;5;124mnames\u001b[39m\u001b[38;5;124m\"\u001b[39m, \u001b[38;5;28;01mNone\u001b[39;00m))\n\u001b[0;32m    619\u001b[0m \u001b[38;5;66;03m# Create the parser.\u001b[39;00m\n\u001b[1;32m--> 620\u001b[0m parser \u001b[38;5;241m=\u001b[39m \u001b[43mTextFileReader\u001b[49m\u001b[43m(\u001b[49m\u001b[43mfilepath_or_buffer\u001b[49m\u001b[43m,\u001b[49m\u001b[43m \u001b[49m\u001b[38;5;241;43m*\u001b[39;49m\u001b[38;5;241;43m*\u001b[39;49m\u001b[43mkwds\u001b[49m\u001b[43m)\u001b[49m\n\u001b[0;32m    622\u001b[0m \u001b[38;5;28;01mif\u001b[39;00m chunksize \u001b[38;5;129;01mor\u001b[39;00m iterator:\n\u001b[0;32m    623\u001b[0m     \u001b[38;5;28;01mreturn\u001b[39;00m parser\n",
      "File \u001b[1;32m~\\AppData\\Roaming\\Python\\Python311\\site-packages\\pandas\\io\\parsers\\readers.py:1620\u001b[0m, in \u001b[0;36mTextFileReader.__init__\u001b[1;34m(self, f, engine, **kwds)\u001b[0m\n\u001b[0;32m   1617\u001b[0m     \u001b[38;5;28mself\u001b[39m\u001b[38;5;241m.\u001b[39moptions[\u001b[38;5;124m\"\u001b[39m\u001b[38;5;124mhas_index_names\u001b[39m\u001b[38;5;124m\"\u001b[39m] \u001b[38;5;241m=\u001b[39m kwds[\u001b[38;5;124m\"\u001b[39m\u001b[38;5;124mhas_index_names\u001b[39m\u001b[38;5;124m\"\u001b[39m]\n\u001b[0;32m   1619\u001b[0m \u001b[38;5;28mself\u001b[39m\u001b[38;5;241m.\u001b[39mhandles: IOHandles \u001b[38;5;241m|\u001b[39m \u001b[38;5;28;01mNone\u001b[39;00m \u001b[38;5;241m=\u001b[39m \u001b[38;5;28;01mNone\u001b[39;00m\n\u001b[1;32m-> 1620\u001b[0m \u001b[38;5;28mself\u001b[39m\u001b[38;5;241m.\u001b[39m_engine \u001b[38;5;241m=\u001b[39m \u001b[38;5;28;43mself\u001b[39;49m\u001b[38;5;241;43m.\u001b[39;49m\u001b[43m_make_engine\u001b[49m\u001b[43m(\u001b[49m\u001b[43mf\u001b[49m\u001b[43m,\u001b[49m\u001b[43m \u001b[49m\u001b[38;5;28;43mself\u001b[39;49m\u001b[38;5;241;43m.\u001b[39;49m\u001b[43mengine\u001b[49m\u001b[43m)\u001b[49m\n",
      "File \u001b[1;32m~\\AppData\\Roaming\\Python\\Python311\\site-packages\\pandas\\io\\parsers\\readers.py:1880\u001b[0m, in \u001b[0;36mTextFileReader._make_engine\u001b[1;34m(self, f, engine)\u001b[0m\n\u001b[0;32m   1878\u001b[0m     \u001b[38;5;28;01mif\u001b[39;00m \u001b[38;5;124m\"\u001b[39m\u001b[38;5;124mb\u001b[39m\u001b[38;5;124m\"\u001b[39m \u001b[38;5;129;01mnot\u001b[39;00m \u001b[38;5;129;01min\u001b[39;00m mode:\n\u001b[0;32m   1879\u001b[0m         mode \u001b[38;5;241m+\u001b[39m\u001b[38;5;241m=\u001b[39m \u001b[38;5;124m\"\u001b[39m\u001b[38;5;124mb\u001b[39m\u001b[38;5;124m\"\u001b[39m\n\u001b[1;32m-> 1880\u001b[0m \u001b[38;5;28mself\u001b[39m\u001b[38;5;241m.\u001b[39mhandles \u001b[38;5;241m=\u001b[39m \u001b[43mget_handle\u001b[49m\u001b[43m(\u001b[49m\n\u001b[0;32m   1881\u001b[0m \u001b[43m    \u001b[49m\u001b[43mf\u001b[49m\u001b[43m,\u001b[49m\n\u001b[0;32m   1882\u001b[0m \u001b[43m    \u001b[49m\u001b[43mmode\u001b[49m\u001b[43m,\u001b[49m\n\u001b[0;32m   1883\u001b[0m \u001b[43m    \u001b[49m\u001b[43mencoding\u001b[49m\u001b[38;5;241;43m=\u001b[39;49m\u001b[38;5;28;43mself\u001b[39;49m\u001b[38;5;241;43m.\u001b[39;49m\u001b[43moptions\u001b[49m\u001b[38;5;241;43m.\u001b[39;49m\u001b[43mget\u001b[49m\u001b[43m(\u001b[49m\u001b[38;5;124;43m\"\u001b[39;49m\u001b[38;5;124;43mencoding\u001b[39;49m\u001b[38;5;124;43m\"\u001b[39;49m\u001b[43m,\u001b[49m\u001b[43m \u001b[49m\u001b[38;5;28;43;01mNone\u001b[39;49;00m\u001b[43m)\u001b[49m\u001b[43m,\u001b[49m\n\u001b[0;32m   1884\u001b[0m \u001b[43m    \u001b[49m\u001b[43mcompression\u001b[49m\u001b[38;5;241;43m=\u001b[39;49m\u001b[38;5;28;43mself\u001b[39;49m\u001b[38;5;241;43m.\u001b[39;49m\u001b[43moptions\u001b[49m\u001b[38;5;241;43m.\u001b[39;49m\u001b[43mget\u001b[49m\u001b[43m(\u001b[49m\u001b[38;5;124;43m\"\u001b[39;49m\u001b[38;5;124;43mcompression\u001b[39;49m\u001b[38;5;124;43m\"\u001b[39;49m\u001b[43m,\u001b[49m\u001b[43m \u001b[49m\u001b[38;5;28;43;01mNone\u001b[39;49;00m\u001b[43m)\u001b[49m\u001b[43m,\u001b[49m\n\u001b[0;32m   1885\u001b[0m \u001b[43m    \u001b[49m\u001b[43mmemory_map\u001b[49m\u001b[38;5;241;43m=\u001b[39;49m\u001b[38;5;28;43mself\u001b[39;49m\u001b[38;5;241;43m.\u001b[39;49m\u001b[43moptions\u001b[49m\u001b[38;5;241;43m.\u001b[39;49m\u001b[43mget\u001b[49m\u001b[43m(\u001b[49m\u001b[38;5;124;43m\"\u001b[39;49m\u001b[38;5;124;43mmemory_map\u001b[39;49m\u001b[38;5;124;43m\"\u001b[39;49m\u001b[43m,\u001b[49m\u001b[43m \u001b[49m\u001b[38;5;28;43;01mFalse\u001b[39;49;00m\u001b[43m)\u001b[49m\u001b[43m,\u001b[49m\n\u001b[0;32m   1886\u001b[0m \u001b[43m    \u001b[49m\u001b[43mis_text\u001b[49m\u001b[38;5;241;43m=\u001b[39;49m\u001b[43mis_text\u001b[49m\u001b[43m,\u001b[49m\n\u001b[0;32m   1887\u001b[0m \u001b[43m    \u001b[49m\u001b[43merrors\u001b[49m\u001b[38;5;241;43m=\u001b[39;49m\u001b[38;5;28;43mself\u001b[39;49m\u001b[38;5;241;43m.\u001b[39;49m\u001b[43moptions\u001b[49m\u001b[38;5;241;43m.\u001b[39;49m\u001b[43mget\u001b[49m\u001b[43m(\u001b[49m\u001b[38;5;124;43m\"\u001b[39;49m\u001b[38;5;124;43mencoding_errors\u001b[39;49m\u001b[38;5;124;43m\"\u001b[39;49m\u001b[43m,\u001b[49m\u001b[43m \u001b[49m\u001b[38;5;124;43m\"\u001b[39;49m\u001b[38;5;124;43mstrict\u001b[39;49m\u001b[38;5;124;43m\"\u001b[39;49m\u001b[43m)\u001b[49m\u001b[43m,\u001b[49m\n\u001b[0;32m   1888\u001b[0m \u001b[43m    \u001b[49m\u001b[43mstorage_options\u001b[49m\u001b[38;5;241;43m=\u001b[39;49m\u001b[38;5;28;43mself\u001b[39;49m\u001b[38;5;241;43m.\u001b[39;49m\u001b[43moptions\u001b[49m\u001b[38;5;241;43m.\u001b[39;49m\u001b[43mget\u001b[49m\u001b[43m(\u001b[49m\u001b[38;5;124;43m\"\u001b[39;49m\u001b[38;5;124;43mstorage_options\u001b[39;49m\u001b[38;5;124;43m\"\u001b[39;49m\u001b[43m,\u001b[49m\u001b[43m \u001b[49m\u001b[38;5;28;43;01mNone\u001b[39;49;00m\u001b[43m)\u001b[49m\u001b[43m,\u001b[49m\n\u001b[0;32m   1889\u001b[0m \u001b[43m\u001b[49m\u001b[43m)\u001b[49m\n\u001b[0;32m   1890\u001b[0m \u001b[38;5;28;01massert\u001b[39;00m \u001b[38;5;28mself\u001b[39m\u001b[38;5;241m.\u001b[39mhandles \u001b[38;5;129;01mis\u001b[39;00m \u001b[38;5;129;01mnot\u001b[39;00m \u001b[38;5;28;01mNone\u001b[39;00m\n\u001b[0;32m   1891\u001b[0m f \u001b[38;5;241m=\u001b[39m \u001b[38;5;28mself\u001b[39m\u001b[38;5;241m.\u001b[39mhandles\u001b[38;5;241m.\u001b[39mhandle\n",
      "File \u001b[1;32m~\\AppData\\Roaming\\Python\\Python311\\site-packages\\pandas\\io\\common.py:873\u001b[0m, in \u001b[0;36mget_handle\u001b[1;34m(path_or_buf, mode, encoding, compression, memory_map, is_text, errors, storage_options)\u001b[0m\n\u001b[0;32m    868\u001b[0m \u001b[38;5;28;01melif\u001b[39;00m \u001b[38;5;28misinstance\u001b[39m(handle, \u001b[38;5;28mstr\u001b[39m):\n\u001b[0;32m    869\u001b[0m     \u001b[38;5;66;03m# Check whether the filename is to be opened in binary mode.\u001b[39;00m\n\u001b[0;32m    870\u001b[0m     \u001b[38;5;66;03m# Binary mode does not support 'encoding' and 'newline'.\u001b[39;00m\n\u001b[0;32m    871\u001b[0m     \u001b[38;5;28;01mif\u001b[39;00m ioargs\u001b[38;5;241m.\u001b[39mencoding \u001b[38;5;129;01mand\u001b[39;00m \u001b[38;5;124m\"\u001b[39m\u001b[38;5;124mb\u001b[39m\u001b[38;5;124m\"\u001b[39m \u001b[38;5;129;01mnot\u001b[39;00m \u001b[38;5;129;01min\u001b[39;00m ioargs\u001b[38;5;241m.\u001b[39mmode:\n\u001b[0;32m    872\u001b[0m         \u001b[38;5;66;03m# Encoding\u001b[39;00m\n\u001b[1;32m--> 873\u001b[0m         handle \u001b[38;5;241m=\u001b[39m \u001b[38;5;28;43mopen\u001b[39;49m\u001b[43m(\u001b[49m\n\u001b[0;32m    874\u001b[0m \u001b[43m            \u001b[49m\u001b[43mhandle\u001b[49m\u001b[43m,\u001b[49m\n\u001b[0;32m    875\u001b[0m \u001b[43m            \u001b[49m\u001b[43mioargs\u001b[49m\u001b[38;5;241;43m.\u001b[39;49m\u001b[43mmode\u001b[49m\u001b[43m,\u001b[49m\n\u001b[0;32m    876\u001b[0m \u001b[43m            \u001b[49m\u001b[43mencoding\u001b[49m\u001b[38;5;241;43m=\u001b[39;49m\u001b[43mioargs\u001b[49m\u001b[38;5;241;43m.\u001b[39;49m\u001b[43mencoding\u001b[49m\u001b[43m,\u001b[49m\n\u001b[0;32m    877\u001b[0m \u001b[43m            \u001b[49m\u001b[43merrors\u001b[49m\u001b[38;5;241;43m=\u001b[39;49m\u001b[43merrors\u001b[49m\u001b[43m,\u001b[49m\n\u001b[0;32m    878\u001b[0m \u001b[43m            \u001b[49m\u001b[43mnewline\u001b[49m\u001b[38;5;241;43m=\u001b[39;49m\u001b[38;5;124;43m\"\u001b[39;49m\u001b[38;5;124;43m\"\u001b[39;49m\u001b[43m,\u001b[49m\n\u001b[0;32m    879\u001b[0m \u001b[43m        \u001b[49m\u001b[43m)\u001b[49m\n\u001b[0;32m    880\u001b[0m     \u001b[38;5;28;01melse\u001b[39;00m:\n\u001b[0;32m    881\u001b[0m         \u001b[38;5;66;03m# Binary mode\u001b[39;00m\n\u001b[0;32m    882\u001b[0m         handle \u001b[38;5;241m=\u001b[39m \u001b[38;5;28mopen\u001b[39m(handle, ioargs\u001b[38;5;241m.\u001b[39mmode)\n",
      "\u001b[1;31mFileNotFoundError\u001b[0m: [Errno 2] No such file or directory: 'A题-示例数据/附件1/M101.csv'"
     ]
    }
   ],
   "source": [
    "data=pd.read_csv('A题-示例数据/附件1/M101.csv')\n",
    "data.head()"
   ]
  },
  {
   "cell_type": "code",
   "execution_count": 6,
   "id": "9f89158b-cc77-4790-8330-c66dfbe5e029",
   "metadata": {},
   "outputs": [
    {
     "data": {
      "text/plain": [
       "(636509, 37)"
      ]
     },
     "execution_count": 6,
     "metadata": {},
     "output_type": "execute_result"
    }
   ],
   "source": [
    "data.shape"
   ]
  },
  {
   "attachments": {
    "019ad628-ae69-408d-8727-5e0947887035.png": {
     "image/png": "[encoded data removed]"
    }
   },
   "cell_type": "markdown",
   "id": "c5364a9b-71fc-4940-bcd6-72aef5862440",
   "metadata": {},
   "source": [
    "![image.png](attachment:019ad628-ae69-408d-8727-5e0947887035.png)"
   ]
  },
  {
   "cell_type": "code",
   "execution_count": 7,
   "id": "96b777cb-b59c-4b7a-93b6-505559d7ca49",
   "metadata": {},
   "outputs": [],
   "source": [
    "X = data[[ '时间', '物料推送气缸推送状态', '物料推送气缸收回状态', '物料推送数', '物料待抓取数',\n",
    "       '放置容器数', '容器上传检测数', '填装检测数', '填装定位器固定状态', '填装定位器放开状态', '物料抓取数', '填装旋转数',\n",
    "       '填装下降数', '填装数', '加盖检测数', '加盖定位数', '推盖数', '加盖下降数', '加盖数', '拧盖检测数',\n",
    "       '拧盖定位数', '拧盖下降数', '拧盖旋转数', '拧盖数', '合格数', '不合格数']]"
   ]
  },
  {
   "cell_type": "code",
   "execution_count": 8,
   "id": "2111e9b0-ec47-4b31-a0a8-8c7616357460",
   "metadata": {},
   "outputs": [],
   "source": [
    "kk='加盖装置定位故障5001'"
   ]
  },
  {
   "cell_type": "code",
   "execution_count": 9,
   "id": "1ac5ee15-c310-46e6-b8f8-658bf9f31537",
   "metadata": {},
   "outputs": [
    {
     "data": {
      "text/plain": [
       "array([   0, 5001], dtype=int64)"
      ]
     },
     "execution_count": 9,
     "metadata": {},
     "output_type": "execute_result"
    }
   ],
   "source": [
    "data[kk].unique()"
   ]
  },
  {
   "cell_type": "code",
   "execution_count": 10,
   "id": "8cbf4916-249e-4ed4-a0e1-5fa6c5817fa6",
   "metadata": {},
   "outputs": [
    {
     "data": {
      "text/plain": [
       "0    633964\n",
       "1      2545\n",
       "Name: 加盖装置定位故障5001, dtype: int64"
      ]
     },
     "execution_count": 10,
     "metadata": {},
     "output_type": "execute_result"
    }
   ],
   "source": [
    "data[kk]=data[kk].apply(lambda x :0 if x==0 else 1 )\n",
    "data[kk].value_counts()"
   ]
  },
  {
   "cell_type": "code",
   "execution_count": 11,
   "id": "cfa2d7ff-be5f-4930-b143-d3eb4a6a3ce3",
   "metadata": {},
   "outputs": [],
   "source": [
    "Y = data[kk]"
   ]
  },
  {
   "cell_type": "code",
   "execution_count": 12,
   "id": "07fd45d0-c04c-4349-b704-b82a8a4a231a",
   "metadata": {},
   "outputs": [
    {
     "data": {
      "image/png": "[encoded data removed]",
      "text/plain": [
       "<Figure size 432x288 with 1 Axes>"
      ]
     },
     "metadata": {
      "needs_background": "light"
     },
     "output_type": "display_data"
    }
   ],
   "source": [
    "count_classes = pd.value_counts(Y,sort = True).sort_index()\n",
    "count_classes.plot(kind='bar',rot=0)\n",
    "plt.title('class的分布情况')\n",
    "plt.xlabel('Class')\n",
    "plt.ylabel('数目')\n",
    "plt.show()"
   ]
  },
  {
   "cell_type": "code",
   "execution_count": 13,
   "id": "2da8bf0d-237c-4f77-8b8c-5cc66331c7f1",
   "metadata": {},
   "outputs": [
    {
     "data": {
      "text/plain": [
       "Counter({0: 633964, 1: 2545})"
      ]
     },
     "execution_count": 13,
     "metadata": {},
     "output_type": "execute_result"
    }
   ],
   "source": [
    "from collections import Counter\n",
    "Counter(Y)"
   ]
  },
  {
   "cell_type": "code",
   "execution_count": null,
   "id": "68fcd129-8422-45ff-9f2d-bb3f6b9f099d",
   "metadata": {},
   "outputs": [],
   "source": [
    "from imblearn.over_sampling import SMOTE\n",
    "X_resampled_SMOTE, y_resampled_SMOTE = SMOTE().fit_resample(X, Y)"
   ]
  },
  {
   "cell_type": "code",
   "execution_count": null,
   "id": "58913bd0-3cf1-451b-b97f-884b1546172e",
   "metadata": {},
   "outputs": [],
   "source": [
    "from imblearn.under_sampling import RandomUnderSampler\n",
    "X_resampled_RandomUnderSampler, y_resampled_RandomUnderSampler = RandomUnderSampler(random_state=42).fit_resample(X, Y)"
   ]
  },
  {
   "cell_type": "code",
   "execution_count": null,
   "id": "cdc86f2b-d910-4bba-b5cd-a6528109e837",
   "metadata": {},
   "outputs": [],
   "source": [
    "X_train, X_test, Y_train, Y_test = train_test_split(X, Y, test_size=0.3)"
   ]
  },
  {
   "cell_type": "code",
   "execution_count": null,
   "id": "0ae2c061-142b-4ad9-affe-2698e115f37f",
   "metadata": {},
   "outputs": [],
   "source": [
    "fig, axs = plt.subplots(2, 3, figsize=(15, 10))\n",
    "\n",
    "from sklearn.linear_model import LogisticRegression\n",
    "model=LogisticRegression()\n",
    "model.fit(X_train, Y_train)\n",
    "LR_y_pred = model.predict(X_test)\n",
    "\n",
    "# 输出xgboost模型评价结果\n",
    "print('逻辑回归评价结果：')\n",
    "# 准确率，召回率，F-score评价\n",
    "print(\"ACC\",accuracy_score(Y_test, LR_y_pred))\n",
    "print(\"REC\",recall_score(Y_test, LR_y_pred))\n",
    "print(\"F-score\",f1_score(Y_test, LR_y_pred))\n",
    "print(classification_report(Y_test, LR_y_pred))\n",
    "\n",
    "y_pred_prob = model.predict_proba(X_test)[:, 1]\n",
    "\n",
    "# 计算ROC曲线的TPR和FPR\n",
    "fpr, tpr, thresholds = roc_curve(Y_test, y_pred_prob)\n",
    "\n",
    "# 计算AUC值\n",
    "roc_auc = auc(fpr, tpr)\n",
    "\n",
    "\n",
    "axs[0][0].plot(fpr, tpr, color='darkorange', lw=2)\n",
    "axs[0][0].plot([0, 1], [0, 1], color='navy', lw=2, linestyle='--')\n",
    "axs[0][0].set_xlim([0.0, 1.0])\n",
    "axs[0][0].set_ylim([0.0, 1.05])\n",
    "axs[0][0].set_xlabel('假阳性率')\n",
    "axs[0][0].set_ylabel('真阳性率')\n",
    "axs[0][0].set_title('逻辑回归ROC(auc = %0.2f)' % roc_auc)\n",
    "\n",
    "##'Q2-出生年', 'Q3-性别',  'Q6-文化程度', 'Q7-婚姻状况','Q8-职业'\n",
    "#年龄、性别、婚姻状况、文化程度、职业\n",
    "# 构建xgboost回归模型\n",
    "xgb_model = xgb.XGBClassifier(n_estimators=100, max_depth=3, learning_rate=0.1, random_state=42)\n",
    "xgb_model.fit(X_train, Y_train)\n",
    "xgb_y_pred = xgb_model.predict(X_test)\n",
    "\n",
    "# 输出xgboost模型评价结果\n",
    "print('XGBoost模型评价结果：')\n",
    "# 准确率，召回率，F-score评价\n",
    "print(\"ACC\",accuracy_score(Y_test, xgb_y_pred))\n",
    "print(\"REC\",recall_score(Y_test, xgb_y_pred))\n",
    "print(\"F-score\",f1_score(Y_test, xgb_y_pred))\n",
    "print(classification_report(Y_test, xgb_y_pred))\n",
    "\n",
    "u=0\n",
    "o=1\n",
    "y_pred_prob = xgb_model.predict_proba(X_test)[:, 1]\n",
    "fpr, tpr, thresholds = roc_curve(Y_test, y_pred_prob)\n",
    "roc_auc = auc(fpr, tpr)\n",
    "axs[u][o].plot(fpr, tpr, color='darkorange', lw=2)\n",
    "axs[u][o].plot([0, 1], [0, 1], color='navy', lw=2, linestyle='--')\n",
    "axs[u][o].set_xlim([0.0, 1.0])\n",
    "axs[u][o].set_ylim([0.0, 1.05])\n",
    "axs[u][o].set_xlabel('假阳性率')\n",
    "axs[u][o].set_ylabel('真阳性率')\n",
    "axs[u][o].set_title('XGBoost ROC(auc = %0.2f)' % roc_auc)\n",
    "\n",
    "\n",
    "\n",
    "\n",
    "\n",
    "\n",
    "\n",
    "\n",
    "# 构建决策树回归模型\n",
    "tree_model = DecisionTreeClassifier(random_state=42)\n",
    "tree_model.fit(X_train, Y_train)\n",
    "tree_y_pred = tree_model.predict(X_test)\n",
    "\n",
    "# 输出决策树模型评价结果\n",
    "print('决策树模型评价结果：')\n",
    "# 准确率，召回率，F-score评价\n",
    "print(\"ACC\",accuracy_score(Y_test, tree_y_pred))\n",
    "print(\"REC\",recall_score(Y_test, tree_y_pred))\n",
    "print(\"F-score\",f1_score(Y_test, tree_y_pred))\n",
    "print(classification_report(Y_test, tree_y_pred))\n",
    "u=0\n",
    "o=2\n",
    "y_pred_prob = tree_model.predict_proba(X_test)[:, 1]\n",
    "fpr, tpr, thresholds = roc_curve(Y_test, y_pred_prob)\n",
    "roc_auc = auc(fpr, tpr)\n",
    "axs[u][o].plot(fpr, tpr, color='darkorange', lw=2)\n",
    "axs[u][o].plot([0, 1], [0, 1], color='navy', lw=2, linestyle='--')\n",
    "axs[u][o].set_xlim([0.0, 1.0])\n",
    "axs[u][o].set_ylim([0.0, 1.05])\n",
    "axs[u][o].set_xlabel('假阳性率')\n",
    "axs[u][o].set_ylabel('真阳性率')\n",
    "axs[u][o].set_title('决策树 ROC(auc = %0.2f)' % roc_auc)\n",
    "\n",
    "\n",
    "\n",
    "# 构建随机森林回归模型\n",
    "rf_model = RandomForestClassifier(n_estimators=100, max_depth=3, random_state=42)\n",
    "rf_model.fit(X_train, Y_train)\n",
    "rf_y_pred = rf_model.predict(X_test)\n",
    "\n",
    "# 输出随机森林模型评价结果\n",
    "print('随机森林模型评价结果：')\n",
    "# 准确率，召回率，F-score评价\n",
    "print(\"ACC\",accuracy_score(Y_test, rf_y_pred))\n",
    "print(\"REC\",recall_score(Y_test, rf_y_pred))\n",
    "print(\"F-score\",f1_score(Y_test, rf_y_pred))\n",
    "print(classification_report(Y_test, rf_y_pred))\n",
    "u=1\n",
    "o=0\n",
    "y_pred_prob = rf_model.predict_proba(X_test)[:, 1]\n",
    "fpr, tpr, thresholds = roc_curve(Y_test, y_pred_prob)\n",
    "roc_auc = auc(fpr, tpr)\n",
    "axs[u][o].plot(fpr, tpr, color='darkorange', lw=2)\n",
    "axs[u][o].plot([0, 1], [0, 1], color='navy', lw=2, linestyle='--')\n",
    "axs[u][o].set_xlim([0.0, 1.0])\n",
    "axs[u][o].set_ylim([0.0, 1.05])\n",
    "axs[u][o].set_xlabel('假阳性率')\n",
    "axs[u][o].set_ylabel('真阳性率')\n",
    "axs[u][o].set_title('随机森林 ROC(auc = %0.2f)' % roc_auc)\n",
    "\n",
    "\n",
    "\n",
    "# 构建Adaboost回归模型\n",
    "ada_model = AdaBoostClassifier(n_estimators=100)\n",
    "ada_model.fit(X_train, Y_train)\n",
    "ada_y_pred = ada_model.predict(X_test)\n",
    "# 输出Adaboost模型评价结果\n",
    "print('Adaboost模型评价结果：')\n",
    "print(\"ACC\",accuracy_score(Y_test, ada_y_pred))\n",
    "print(\"REC\",recall_score(Y_test, ada_y_pred))\n",
    "print(\"F-score\",f1_score(Y_test, ada_y_pred))\n",
    "print(classification_report(Y_test, ada_y_pred))\n",
    "u=1\n",
    "o=1\n",
    "y_pred_prob = ada_model.predict_proba(X_test)[:, 1]\n",
    "fpr, tpr, thresholds = roc_curve(Y_test, y_pred_prob)\n",
    "roc_auc = auc(fpr, tpr)\n",
    "axs[u][o].plot(fpr, tpr, color='darkorange', lw=2)\n",
    "axs[u][o].plot([0, 1], [0, 1], color='navy', lw=2, linestyle='--')\n",
    "axs[u][o].set_xlim([0.0, 1.0])\n",
    "axs[u][o].set_ylim([0.0, 1.05])\n",
    "axs[u][o].set_xlabel('假阳性率')\n",
    "axs[u][o].set_ylabel('真阳性率')\n",
    "axs[u][o].set_title('Adaboost ROC(auc = %0.2f)' % roc_auc)\n",
    "\n",
    "# 构建GBDT回归模型\n",
    "gbdt_model = GradientBoostingClassifier(n_estimators=100, max_depth=3, learning_rate=0.1, random_state=42)\n",
    "gbdt_model.fit(X_train, Y_train)\n",
    "gbdt_y_pred = gbdt_model.predict(X_test)\n",
    "\n",
    "# 输出GBDT模型评价结果\n",
    "print('GBDT模型评价结果：')\n",
    "print(\"ACC\",accuracy_score(Y_test, gbdt_y_pred))\n",
    "print(\"REC\",recall_score(Y_test, gbdt_y_pred))\n",
    "print(\"F-score\",f1_score(Y_test, gbdt_y_pred))\n",
    "print(classification_report(Y_test, gbdt_y_pred))\n",
    "u=1\n",
    "o=2\n",
    "y_pred_prob = gbdt_model.predict_proba(X_test)[:, 1]\n",
    "fpr, tpr, thresholds = roc_curve(Y_test, y_pred_prob)\n",
    "roc_auc = auc(fpr, tpr)\n",
    "axs[u][o].plot(fpr, tpr, color='darkorange', lw=2)\n",
    "axs[u][o].plot([0, 1], [0, 1], color='navy', lw=2, linestyle='--')\n",
    "axs[u][o].set_xlim([0.0, 1.0])\n",
    "axs[u][o].set_ylim([0.0, 1.05])\n",
    "axs[u][o].set_xlabel('假阳性率')\n",
    "axs[u][o].set_ylabel('真阳性率')\n",
    "axs[u][o].set_title('GBDT ROC(auc = %0.2f)' % roc_auc)\n"
   ]
  },
  {
   "cell_type": "code",
   "execution_count": null,
   "id": "dce5d9d0-324e-4de1-acd8-8754a5e08a8c",
   "metadata": {},
   "outputs": [],
   "source": [
    "fig.savefig('./jpglist/%sROC_原始数据.png'%kk)"
   ]
  },
  {
   "cell_type": "code",
   "execution_count": null,
   "id": "b0caa684-55a3-4cb1-9243-00678180ff6e",
   "metadata": {},
   "outputs": [],
   "source": [
    "from collections import Counter\n",
    "Counter(y_resampled_SMOTE)"
   ]
  },
  {
   "cell_type": "code",
   "execution_count": null,
   "id": "a4a49c63-3f33-40d6-9b71-ccc34439ebb0",
   "metadata": {},
   "outputs": [],
   "source": [
    "X_train, X_test, Y_train, Y_test = train_test_split(X_resampled_SMOTE, y_resampled_SMOTE ,test_size=0.3)"
   ]
  },
  {
   "cell_type": "code",
   "execution_count": null,
   "id": "ca559a00-b115-41f5-9622-1908f1bbe564",
   "metadata": {},
   "outputs": [],
   "source": [
    "fig, axs = plt.subplots(2, 3, figsize=(15, 10))\n",
    "\n",
    "from sklearn.linear_model import LogisticRegression\n",
    "model=LogisticRegression()\n",
    "model.fit(X_train, Y_train)\n",
    "LR_y_pred = model.predict(X_test)\n",
    "\n",
    "# 输出xgboost模型评价结果\n",
    "print('逻辑回归评价结果：')\n",
    "# 准确率，召回率，F-score评价\n",
    "print(\"ACC\",accuracy_score(Y_test, LR_y_pred))\n",
    "print(\"REC\",recall_score(Y_test, LR_y_pred))\n",
    "print(\"F-score\",f1_score(Y_test, LR_y_pred))\n",
    "print(classification_report(Y_test, LR_y_pred))\n",
    "\n",
    "y_pred_prob = model.predict_proba(X_test)[:, 1]\n",
    "\n",
    "    # 计算ROC曲线的TPR和FPR\n",
    "fpr, tpr, thresholds = roc_curve(Y_test, y_pred_prob)\n",
    "\n",
    "    # 计算AUC值\n",
    "roc_auc = auc(fpr, tpr)\n",
    "\n",
    "\n",
    "axs[0][0].plot(fpr, tpr, color='darkorange', lw=2)\n",
    "axs[0][0].plot([0, 1], [0, 1], color='navy', lw=2, linestyle='--')\n",
    "axs[0][0].set_xlim([0.0, 1.0])\n",
    "axs[0][0].set_ylim([0.0, 1.05])\n",
    "axs[0][0].set_xlabel('假阳性率')\n",
    "axs[0][0].set_ylabel('真阳性率')\n",
    "axs[0][0].set_title('逻辑回归ROC(auc = %0.2f)' % roc_auc)\n",
    "\n",
    "\n",
    "\n",
    "\n",
    "\n",
    "\n",
    "##'Q2-出生年', 'Q3-性别',  'Q6-文化程度', 'Q7-婚姻状况','Q8-职业'\n",
    "#年龄、性别、婚姻状况、文化程度、职业\n",
    "# 构建xgboost回归模型\n",
    "xgb_model = xgb.XGBClassifier(n_estimators=100, max_depth=3, learning_rate=0.1, random_state=42)\n",
    "xgb_model.fit(X_train, Y_train)\n",
    "xgb_y_pred = xgb_model.predict(X_test)\n",
    "\n",
    "# 输出xgboost模型评价结果\n",
    "print('XGBoost模型评价结果：')\n",
    "# 准确率，召回率，F-score评价\n",
    "print(\"ACC\",accuracy_score(Y_test, xgb_y_pred))\n",
    "print(\"REC\",recall_score(Y_test, xgb_y_pred))\n",
    "print(\"F-score\",f1_score(Y_test, xgb_y_pred))\n",
    "print(classification_report(Y_test, xgb_y_pred))\n",
    "\n",
    "u=0\n",
    "o=1\n",
    "y_pred_prob = xgb_model.predict_proba(X_test)[:, 1]\n",
    "fpr, tpr, thresholds = roc_curve(Y_test, y_pred_prob)\n",
    "roc_auc = auc(fpr, tpr)\n",
    "axs[u][o].plot(fpr, tpr, color='darkorange', lw=2)\n",
    "axs[u][o].plot([0, 1], [0, 1], color='navy', lw=2, linestyle='--')\n",
    "axs[u][o].set_xlim([0.0, 1.0])\n",
    "axs[u][o].set_ylim([0.0, 1.05])\n",
    "axs[u][o].set_xlabel('假阳性率')\n",
    "axs[u][o].set_ylabel('真阳性率')\n",
    "axs[u][o].set_title('XGBoost ROC(auc = %0.2f)' % roc_auc)\n",
    "\n",
    "# 构建决策树回归模型\n",
    "tree_model = DecisionTreeClassifier(random_state=42)\n",
    "tree_model.fit(X_train, Y_train)\n",
    "tree_y_pred = tree_model.predict(X_test)\n",
    "\n",
    "# 输出决策树模型评价结果\n",
    "print('决策树模型评价结果：')\n",
    "# 准确率，召回率，F-score评价\n",
    "print(\"ACC\",accuracy_score(Y_test, tree_y_pred))\n",
    "print(\"REC\",recall_score(Y_test, tree_y_pred))\n",
    "print(\"F-score\",f1_score(Y_test, tree_y_pred))\n",
    "print(classification_report(Y_test, tree_y_pred))\n",
    "u=0\n",
    "o=2\n",
    "y_pred_prob = tree_model.predict_proba(X_test)[:, 1]\n",
    "fpr, tpr, thresholds = roc_curve(Y_test, y_pred_prob)\n",
    "roc_auc = auc(fpr, tpr)\n",
    "axs[u][o].plot(fpr, tpr, color='darkorange', lw=2)\n",
    "axs[u][o].plot([0, 1], [0, 1], color='navy', lw=2, linestyle='--')\n",
    "axs[u][o].set_xlim([0.0, 1.0])\n",
    "axs[u][o].set_ylim([0.0, 1.05])\n",
    "axs[u][o].set_xlabel('假阳性率')\n",
    "axs[u][o].set_ylabel('真阳性率')\n",
    "axs[u][o].set_title('决策树 ROC(auc = %0.2f)' % roc_auc)\n",
    "\n",
    "\n",
    "\n",
    "\n",
    "\n",
    "# 构建随机森林回归模型\n",
    "rf_model = RandomForestClassifier(n_estimators=100, max_depth=3, random_state=42)\n",
    "rf_model.fit(X_train, Y_train)\n",
    "rf_y_pred = rf_model.predict(X_test)\n",
    "\n",
    "# 输出随机森林模型评价结果\n",
    "print('随机森林模型评价结果：')\n",
    "# 准确率，召回率，F-score评价\n",
    "print(\"ACC\",accuracy_score(Y_test, rf_y_pred))\n",
    "print(\"REC\",recall_score(Y_test, rf_y_pred))\n",
    "print(\"F-score\",f1_score(Y_test, rf_y_pred))\n",
    "print(classification_report(Y_test, rf_y_pred))\n",
    "u=1\n",
    "o=0\n",
    "y_pred_prob = rf_model.predict_proba(X_test)[:, 1]\n",
    "fpr, tpr, thresholds = roc_curve(Y_test, y_pred_prob)\n",
    "roc_auc = auc(fpr, tpr)\n",
    "axs[u][o].plot(fpr, tpr, color='darkorange', lw=2)\n",
    "axs[u][o].plot([0, 1], [0, 1], color='navy', lw=2, linestyle='--')\n",
    "axs[u][o].set_xlim([0.0, 1.0])\n",
    "axs[u][o].set_ylim([0.0, 1.05])\n",
    "axs[u][o].set_xlabel('假阳性率')\n",
    "axs[u][o].set_ylabel('真阳性率')\n",
    "axs[u][o].set_title('随机森林 ROC(auc = %0.2f)' % roc_auc)\n",
    "\n",
    "\n",
    "\n",
    "# 构建Adaboost回归模型\n",
    "ada_model = AdaBoostClassifier(n_estimators=100)\n",
    "ada_model.fit(X_train, Y_train)\n",
    "ada_y_pred = ada_model.predict(X_test)\n",
    "# 输出Adaboost模型评价结果\n",
    "print('Adaboost模型评价结果：')\n",
    "print(\"ACC\",accuracy_score(Y_test, ada_y_pred))\n",
    "print(\"REC\",recall_score(Y_test, ada_y_pred))\n",
    "print(\"F-score\",f1_score(Y_test, ada_y_pred))\n",
    "print(classification_report(Y_test, ada_y_pred))\n",
    "u=1\n",
    "o=1\n",
    "y_pred_prob = ada_model.predict_proba(X_test)[:, 1]\n",
    "fpr, tpr, thresholds = roc_curve(Y_test, y_pred_prob)\n",
    "roc_auc = auc(fpr, tpr)\n",
    "axs[u][o].plot(fpr, tpr, color='darkorange', lw=2)\n",
    "axs[u][o].plot([0, 1], [0, 1], color='navy', lw=2, linestyle='--')\n",
    "axs[u][o].set_xlim([0.0, 1.0])\n",
    "axs[u][o].set_ylim([0.0, 1.05])\n",
    "axs[u][o].set_xlabel('假阳性率')\n",
    "axs[u][o].set_ylabel('真阳性率')\n",
    "axs[u][o].set_title('Adaboost ROC(auc = %0.2f)' % roc_auc)\n",
    "\n",
    "# 构建GBDT回归模型\n",
    "gbdt_model = GradientBoostingClassifier(n_estimators=100, max_depth=3, learning_rate=0.1, random_state=42)\n",
    "gbdt_model.fit(X_train, Y_train)\n",
    "gbdt_y_pred = gbdt_model.predict(X_test)\n",
    "\n",
    "# 输出GBDT模型评价结果\n",
    "print('GBDT模型评价结果：')\n",
    "print(\"ACC\",accuracy_score(Y_test, gbdt_y_pred))\n",
    "print(\"REC\",recall_score(Y_test, gbdt_y_pred))\n",
    "print(\"F-score\",f1_score(Y_test, gbdt_y_pred))\n",
    "print(classification_report(Y_test, gbdt_y_pred))\n",
    "u=1\n",
    "o=2\n",
    "y_pred_prob = gbdt_model.predict_proba(X_test)[:, 1]\n",
    "fpr, tpr, thresholds = roc_curve(Y_test, y_pred_prob)\n",
    "roc_auc = auc(fpr, tpr)\n",
    "axs[u][o].plot(fpr, tpr, color='darkorange', lw=2)\n",
    "axs[u][o].plot([0, 1], [0, 1], color='navy', lw=2, linestyle='--')\n",
    "axs[u][o].set_xlim([0.0, 1.0])\n",
    "axs[u][o].set_ylim([0.0, 1.05])\n",
    "axs[u][o].set_xlabel('假阳性率')\n",
    "axs[u][o].set_ylabel('真阳性率')\n",
    "axs[u][o].set_title('GBDT ROC(auc = %0.2f)' % roc_auc)\n"
   ]
  },
  {
   "cell_type": "code",
   "execution_count": null,
   "id": "11a568d8-6729-463f-99ef-0682c417c879",
   "metadata": {},
   "outputs": [],
   "source": [
    "fig.savefig('./jpglist/%sROC_smote.png'%kk)"
   ]
  },
  {
   "cell_type": "code",
   "execution_count": null,
   "id": "03da0443-06f4-4a54-9a3a-5a5f97480144",
   "metadata": {},
   "outputs": [],
   "source": [
    "Counter(y_resampled_RandomUnderSampler)"
   ]
  },
  {
   "cell_type": "code",
   "execution_count": null,
   "id": "2f9d2b8b-2474-46a6-95d9-c7a736122cb5",
   "metadata": {},
   "outputs": [],
   "source": [
    "X_train, X_test, Y_train, Y_test = train_test_split(X_resampled_RandomUnderSampler, y_resampled_RandomUnderSampler, test_size=0.3)"
   ]
  },
  {
   "cell_type": "code",
   "execution_count": null,
   "id": "527812ac-b84e-4e86-9304-e05fdbdcf270",
   "metadata": {},
   "outputs": [],
   "source": [
    "fig, axs = plt.subplots(2, 3, figsize=(15, 10))\n",
    "\n",
    "from sklearn.linear_model import LogisticRegression\n",
    "model=LogisticRegression()\n",
    "model.fit(X_train, Y_train)\n",
    "LR_y_pred = model.predict(X_test)\n",
    "\n",
    "# 输出xgboost模型评价结果\n",
    "print('逻辑回归评价结果：')\n",
    "# 准确率，召回率，F-score评价\n",
    "print(\"ACC\",accuracy_score(Y_test, LR_y_pred))\n",
    "print(\"REC\",recall_score(Y_test, LR_y_pred))\n",
    "print(\"F-score\",f1_score(Y_test, LR_y_pred))\n",
    "print(classification_report(Y_test, LR_y_pred))\n",
    "\n",
    "y_pred_prob = model.predict_proba(X_test)[:, 1]\n",
    "\n",
    "    # 计算ROC曲线的TPR和FPR\n",
    "fpr, tpr, thresholds = roc_curve(Y_test, y_pred_prob)\n",
    "\n",
    "    # 计算AUC值\n",
    "roc_auc = auc(fpr, tpr)\n",
    "\n",
    "\n",
    "axs[0][0].plot(fpr, tpr, color='darkorange', lw=2)\n",
    "axs[0][0].plot([0, 1], [0, 1], color='navy', lw=2, linestyle='--')\n",
    "axs[0][0].set_xlim([0.0, 1.0])\n",
    "axs[0][0].set_ylim([0.0, 1.05])\n",
    "axs[0][0].set_xlabel('假阳性率')\n",
    "axs[0][0].set_ylabel('真阳性率')\n",
    "axs[0][0].set_title('逻辑回归ROC(auc = %0.2f)' % roc_auc)\n",
    "\n",
    "\n",
    "\n",
    "\n",
    "\n",
    "\n",
    "##'Q2-出生年', 'Q3-性别',  'Q6-文化程度', 'Q7-婚姻状况','Q8-职业'\n",
    "#年龄、性别、婚姻状况、文化程度、职业\n",
    "# 构建xgboost回归模型\n",
    "xgb_model = xgb.XGBClassifier(n_estimators=100, max_depth=3, learning_rate=0.1, random_state=42)\n",
    "xgb_model.fit(X_train, Y_train)\n",
    "xgb_y_pred = xgb_model.predict(X_test)\n",
    "\n",
    "# 输出xgboost模型评价结果\n",
    "print('XGBoost模型评价结果：')\n",
    "# 准确率，召回率，F-score评价\n",
    "print(\"ACC\",accuracy_score(Y_test, xgb_y_pred))\n",
    "print(\"REC\",recall_score(Y_test, xgb_y_pred))\n",
    "print(\"F-score\",f1_score(Y_test, xgb_y_pred))\n",
    "print(classification_report(Y_test, xgb_y_pred))\n",
    "\n",
    "u=0\n",
    "o=1\n",
    "y_pred_prob = xgb_model.predict_proba(X_test)[:, 1]\n",
    "fpr, tpr, thresholds = roc_curve(Y_test, y_pred_prob)\n",
    "roc_auc = auc(fpr, tpr)\n",
    "axs[u][o].plot(fpr, tpr, color='darkorange', lw=2)\n",
    "axs[u][o].plot([0, 1], [0, 1], color='navy', lw=2, linestyle='--')\n",
    "axs[u][o].set_xlim([0.0, 1.0])\n",
    "axs[u][o].set_ylim([0.0, 1.05])\n",
    "axs[u][o].set_xlabel('假阳性率')\n",
    "axs[u][o].set_ylabel('真阳性率')\n",
    "axs[u][o].set_title('XGBoost ROC(auc = %0.2f)' % roc_auc)\n",
    "\n",
    "\n",
    "\n",
    "\n",
    "\n",
    "\n",
    "\n",
    "\n",
    "# 构建决策树回归模型\n",
    "tree_model = DecisionTreeClassifier(random_state=42)\n",
    "tree_model.fit(X_train, Y_train)\n",
    "tree_y_pred = tree_model.predict(X_test)\n",
    "\n",
    "# 输出决策树模型评价结果\n",
    "print('决策树模型评价结果：')\n",
    "# 准确率，召回率，F-score评价\n",
    "print(\"ACC\",accuracy_score(Y_test, tree_y_pred))\n",
    "print(\"REC\",recall_score(Y_test, tree_y_pred))\n",
    "print(\"F-score\",f1_score(Y_test, tree_y_pred))\n",
    "print(classification_report(Y_test, tree_y_pred))\n",
    "u=0\n",
    "o=2\n",
    "y_pred_prob = tree_model.predict_proba(X_test)[:, 1]\n",
    "fpr, tpr, thresholds = roc_curve(Y_test, y_pred_prob)\n",
    "roc_auc = auc(fpr, tpr)\n",
    "axs[u][o].plot(fpr, tpr, color='darkorange', lw=2)\n",
    "axs[u][o].plot([0, 1], [0, 1], color='navy', lw=2, linestyle='--')\n",
    "axs[u][o].set_xlim([0.0, 1.0])\n",
    "axs[u][o].set_ylim([0.0, 1.05])\n",
    "axs[u][o].set_xlabel('假阳性率')\n",
    "axs[u][o].set_ylabel('真阳性率')\n",
    "axs[u][o].set_title('决策树 ROC(auc = %0.2f)' % roc_auc)\n",
    "\n",
    "\n",
    "\n",
    "\n",
    "\n",
    "# 构建随机森林回归模型\n",
    "rf_model = RandomForestClassifier(n_estimators=100, max_depth=3, random_state=42)\n",
    "rf_model.fit(X_train, Y_train)\n",
    "rf_y_pred = rf_model.predict(X_test)\n",
    "\n",
    "# 输出随机森林模型评价结果\n",
    "print('随机森林模型评价结果：')\n",
    "# 准确率，召回率，F-score评价\n",
    "print(\"ACC\",accuracy_score(Y_test, rf_y_pred))\n",
    "print(\"REC\",recall_score(Y_test, rf_y_pred))\n",
    "print(\"F-score\",f1_score(Y_test, rf_y_pred))\n",
    "print(classification_report(Y_test, rf_y_pred))\n",
    "u=1\n",
    "o=0\n",
    "y_pred_prob = rf_model.predict_proba(X_test)[:, 1]\n",
    "fpr, tpr, thresholds = roc_curve(Y_test, y_pred_prob)\n",
    "roc_auc = auc(fpr, tpr)\n",
    "axs[u][o].plot(fpr, tpr, color='darkorange', lw=2)\n",
    "axs[u][o].plot([0, 1], [0, 1], color='navy', lw=2, linestyle='--')\n",
    "axs[u][o].set_xlim([0.0, 1.0])\n",
    "axs[u][o].set_ylim([0.0, 1.05])\n",
    "axs[u][o].set_xlabel('假阳性率')\n",
    "axs[u][o].set_ylabel('真阳性率')\n",
    "axs[u][o].set_title('随机森林 ROC(auc = %0.2f)' % roc_auc)\n",
    "\n",
    "\n",
    "\n",
    "# 构建Adaboost回归模型\n",
    "ada_model = AdaBoostClassifier(n_estimators=100)\n",
    "ada_model.fit(X_train, Y_train)\n",
    "ada_y_pred = ada_model.predict(X_test)\n",
    "# 输出Adaboost模型评价结果\n",
    "print('Adaboost模型评价结果：')\n",
    "print(\"ACC\",accuracy_score(Y_test, ada_y_pred))\n",
    "print(\"REC\",recall_score(Y_test, ada_y_pred))\n",
    "print(\"F-score\",f1_score(Y_test, ada_y_pred))\n",
    "print(classification_report(Y_test, ada_y_pred))\n",
    "u=1\n",
    "o=1\n",
    "y_pred_prob = ada_model.predict_proba(X_test)[:, 1]\n",
    "fpr, tpr, thresholds = roc_curve(Y_test, y_pred_prob)\n",
    "roc_auc = auc(fpr, tpr)\n",
    "axs[u][o].plot(fpr, tpr, color='darkorange', lw=2)\n",
    "axs[u][o].plot([0, 1], [0, 1], color='navy', lw=2, linestyle='--')\n",
    "axs[u][o].set_xlim([0.0, 1.0])\n",
    "axs[u][o].set_ylim([0.0, 1.05])\n",
    "axs[u][o].set_xlabel('假阳性率')\n",
    "axs[u][o].set_ylabel('真阳性率')\n",
    "axs[u][o].set_title('Adaboost ROC(auc = %0.2f)' % roc_auc)\n",
    "\n",
    "# 构建GBDT回归模型\n",
    "gbdt_model = GradientBoostingClassifier(n_estimators=100, max_depth=3, learning_rate=0.1, random_state=42)\n",
    "gbdt_model.fit(X_train, Y_train)\n",
    "gbdt_y_pred = gbdt_model.predict(X_test)\n",
    "\n",
    "# 输出GBDT模型评价结果\n",
    "print('GBDT模型评价结果：')\n",
    "print(\"ACC\",accuracy_score(Y_test, gbdt_y_pred))\n",
    "print(\"REC\",recall_score(Y_test, gbdt_y_pred))\n",
    "print(\"F-score\",f1_score(Y_test, gbdt_y_pred))\n",
    "print(classification_report(Y_test, gbdt_y_pred))\n",
    "u=1\n",
    "o=2\n",
    "y_pred_prob = gbdt_model.predict_proba(X_test)[:, 1]\n",
    "fpr, tpr, thresholds = roc_curve(Y_test, y_pred_prob)\n",
    "roc_auc = auc(fpr, tpr)\n",
    "axs[u][o].plot(fpr, tpr, color='darkorange', lw=2)\n",
    "axs[u][o].plot([0, 1], [0, 1], color='navy', lw=2, linestyle='--')\n",
    "axs[u][o].set_xlim([0.0, 1.0])\n",
    "axs[u][o].set_ylim([0.0, 1.05])\n",
    "axs[u][o].set_xlabel('假阳性率')\n",
    "axs[u][o].set_ylabel('真阳性率')\n",
    "axs[u][o].set_title('GBDT ROC(auc = %0.2f)' % roc_auc)\n"
   ]
  },
  {
   "cell_type": "code",
   "execution_count": null,
   "id": "7f4098c9-ac27-4733-8ed9-6ff6aa11bbf7",
   "metadata": {},
   "outputs": [],
   "source": [
    "fig.savefig('./jpglist/%sROC_下采样.png'%kk)"
   ]
  },
  {
   "cell_type": "code",
   "execution_count": 15,
   "id": "ddf8093f-8b8d-4611-aa91-5cbcb1d7398c",
   "metadata": {},
   "outputs": [],
   "source": [
    "X_train, X_test, Y_train, Y_test = train_test_split(X, Y, test_size=0.3)"
   ]
  },
  {
   "cell_type": "code",
   "execution_count": 16,
   "id": "1ccf5e76-e42b-41f2-a6c0-0819f614e586",
   "metadata": {},
   "outputs": [
    {
     "name": "stdout",
     "output_type": "stream",
     "text": [
      "[13:50:37] WARNING: C:/Users/Administrator/workspace/xgboost-win64_release_1.5.1/src/learner.cc:1115: Starting in XGBoost 1.3.0, the default evaluation metric used with the objective 'binary:logistic' was changed from 'error' to 'logloss'. Explicitly set eval_metric if you'd like to restore the old behavior.\n",
      "XGBoost模型评价结果：\n",
      "ACC 0.9968107335312878\n",
      "REC 0.2175032175032175\n",
      "F-score 0.35691657866948256\n",
      "              precision    recall  f1-score   support\n",
      "\n",
      "           0       1.00      1.00      1.00    190176\n",
      "           1       0.99      0.22      0.36       777\n",
      "\n",
      "    accuracy                           1.00    190953\n",
      "   macro avg       1.00      0.61      0.68    190953\n",
      "weighted avg       1.00      1.00      1.00    190953\n",
      "\n"
     ]
    }
   ],
   "source": [
    "\n",
    "# 构建xgboost回归模型\n",
    "xgb_model = xgb.XGBClassifier(n_estimators=100, max_depth=3, learning_rate=0.1, random_state=42)\n",
    "xgb_model.fit(X_train, Y_train)\n",
    "xgb_y_pred = xgb_model.predict(X_test)\n",
    "\n",
    "# 输出xgboost模型评价结果\n",
    "print('XGBoost模型评价结果：')\n",
    "# 准确率，召回率，F-score评价\n",
    "print(\"ACC\",accuracy_score(Y_test, xgb_y_pred))\n",
    "print(\"REC\",recall_score(Y_test, xgb_y_pred))\n",
    "print(\"F-score\",f1_score(Y_test, xgb_y_pred))\n",
    "print(classification_report(Y_test, xgb_y_pred))"
   ]
  },
  {
   "cell_type": "code",
   "execution_count": 17,
   "id": "cc7a0216-0e78-40b0-886d-c53c29bad6d2",
   "metadata": {},
   "outputs": [
    {
     "name": "stdout",
     "output_type": "stream",
     "text": [
      "F1分数: 0.35691657866948256\n"
     ]
    },
    {
     "data": {
      "image/png": "[encoded data removed]",
      "text/plain": [
       "<Figure size 432x288 with 1 Axes>"
      ]
     },
     "metadata": {
      "needs_background": "light"
     },
     "output_type": "display_data"
    }
   ],
   "source": [
    "import numpy as np\n",
    "from sklearn.metrics import roc_curve, auc, f1_score\n",
    "import matplotlib.pyplot as plt\n",
    "\n",
    "# 预测测试集的概率而不是类别\n",
    "xgb_y_pred_proba = xgb_model.predict_proba(X_test)[:, 1]\n",
    "\n",
    "# 计算F1分数\n",
    "xgb_f1_score = f1_score(Y_test, xgb_model.predict(X_test))\n",
    "print(f'F1分数: {xgb_f1_score}')\n",
    "\n",
    "# 计算真正率（TPR）和假正率（FPR）以及阈值\n",
    "fpr, tpr, thresholds = roc_curve(Y_test, xgb_y_pred_proba)\n",
    "\n",
    "# 计算AUC\n",
    "roc_auc = auc(fpr, tpr)\n",
    "\n",
    "# 绘制ROC曲线\n",
    "plt.figure()\n",
    "plt.plot(fpr, tpr, color='darkorange', lw=2, label='ROC 曲线 (面积 = %0.4f)' % roc_auc)\n",
    "plt.plot([0, 1], [0, 1], color='navy', lw=2, linestyle='--')\n",
    "plt.xlim([0.0, 1.0])\n",
    "plt.ylim([0.0, 1.05])\n",
    "plt.xlabel('假正率')\n",
    "plt.ylabel('真正率')\n",
    "plt.title('ROC曲线')\n",
    "plt.legend(loc=\"lower right\")\n",
    "plt.show()"
   ]
  },
  {
   "cell_type": "code",
   "execution_count": 18,
   "id": "d9cffdda-3af5-4052-8559-fc8ca8fab4f4",
   "metadata": {},
   "outputs": [
    {
     "name": "stdout",
     "output_type": "stream",
     "text": [
      "F1分数: 0.35691657866948256\n"
     ]
    },
    {
     "data": {
      "image/png": "[encoded data removed]",
      "text/plain": [
       "<Figure size 432x288 with 1 Axes>"
      ]
     },
     "metadata": {
      "needs_background": "light"
     },
     "output_type": "display_data"
    }
   ],
   "source": [
    "import numpy as np\n",
    "from sklearn.metrics import f1_score, precision_recall_curve, auc\n",
    "import matplotlib.pyplot as plt\n",
    "from matplotlib.font_manager import FontProperties\n",
    "\n",
    "\n",
    "xgb_y_pred = xgb_model.predict(X_test)\n",
    "\n",
    "# 计算F1分数\n",
    "xgb_f1_score = f1_score(Y_test, xgb_y_pred)\n",
    "print(f'F1分数: {xgb_f1_score}')\n",
    "\n",
    "# 预测概率\n",
    "xgb_y_scores = xgb_model.predict_proba(X_test)[:, 1]\n",
    "\n",
    "# 获取精确率和召回率\n",
    "precision, recall, thresholds = precision_recall_curve(Y_test, xgb_y_scores)\n",
    "\n",
    "# 计算精确率-召回率曲线下面积(AUC)\n",
    "pr_auc = auc(recall, precision)\n",
    "\n",
    "\n",
    "# 绘制精确率-召回率曲线\n",
    "plt.figure()\n",
    "plt.plot(recall, precision, label='精确率-召回率曲线 (面积 = {0:0.4f})'.format(pr_auc))\n",
    "plt.xlabel('召回率')\n",
    "plt.ylabel('精确率')\n",
    "plt.ylim([0.0, 1.05])\n",
    "plt.xlim([0.0, 1.0])\n",
    "plt.title('精确率与召回率的比较')\n",
    "plt.legend(loc=\"lower left\")\n",
    "plt.show()\n"
   ]
  },
  {
   "cell_type": "code",
   "execution_count": 19,
   "id": "1ca6488a-2e31-4052-b1bd-aae6edaa8c35",
   "metadata": {},
   "outputs": [
    {
     "data": {
      "text/plain": [
       "array([[190175,      1],\n",
       "       [   608,    169]], dtype=int64)"
      ]
     },
     "execution_count": 19,
     "metadata": {},
     "output_type": "execute_result"
    }
   ],
   "source": [
    "from sklearn.metrics import confusion_matrix\n",
    "confusion_matrix(Y_test,xgb_y_pred)"
   ]
  },
  {
   "cell_type": "code",
   "execution_count": 20,
   "id": "4b7e99f4-9227-4f21-81d2-24bc8e622f91",
   "metadata": {},
   "outputs": [
    {
     "name": "stdout",
     "output_type": "stream",
     "text": [
      "F1 Score: 0.35691657866948256\n",
      "混淆矩阵：\n",
      "[[190175      1]\n",
      " [   608    169]]\n"
     ]
    },
    {
     "data": {
      "image/png": "[encoded data removed]",
      "text/plain": [
       "<Figure size 576x432 with 1 Axes>"
      ]
     },
     "metadata": {
      "needs_background": "light"
     },
     "output_type": "display_data"
    }
   ],
   "source": [
    "\n",
    "xgb_y_pred = xgb_model.predict(X_test)\n",
    "\n",
    "# 计算F1分数\n",
    "print(f\"F1 Score: {f1_score(Y_test, xgb_y_pred)}\")\n",
    "\n",
    "# 生成混淆矩阵\n",
    "cm = confusion_matrix(Y_test, xgb_y_pred)\n",
    "print(\"混淆矩阵：\")\n",
    "print(cm)\n",
    "\n",
    "# 绘制混淆矩阵的热力图\n",
    "plt.figure(figsize=(8, 6))\n",
    "sns.heatmap(cm, annot=True, fmt=\"d\", cmap=\"Blues\", cbar=False)\n",
    "plt.xlabel('预测标签')\n",
    "plt.ylabel('真实标签')\n",
    "plt.title('混淆矩阵热力图')\n",
    "plt.show()\n"
   ]
  },
  {
   "cell_type": "code",
   "execution_count": 21,
   "id": "b12fce3e-4a1f-447d-a787-a249d0ff1f2f",
   "metadata": {},
   "outputs": [
    {
     "name": "stdout",
     "output_type": "stream",
     "text": [
      "[13:50:47] WARNING: C:/Users/Administrator/workspace/xgboost-win64_release_1.5.1/src/learner.cc:1115: Starting in XGBoost 1.3.0, the default evaluation metric used with the objective 'binary:logistic' was changed from 'error' to 'logloss'. Explicitly set eval_metric if you'd like to restore the old behavior.\n"
     ]
    },
    {
     "data": {
      "text/plain": [
       "XGBClassifier(base_score=0.5, booster='gbtree', colsample_bylevel=1,\n",
       "              colsample_bynode=1, colsample_bytree=1, enable_categorical=False,\n",
       "              gamma=0, gpu_id=-1, importance_type=None,\n",
       "              interaction_constraints='', learning_rate=0.1, max_delta_step=0,\n",
       "              max_depth=3, min_child_weight=1, missing=nan,\n",
       "              monotone_constraints='()', n_estimators=100, n_jobs=8,\n",
       "              num_parallel_tree=1, predictor='auto', random_state=42,\n",
       "              reg_alpha=0, reg_lambda=1, scale_pos_weight=1, subsample=1,\n",
       "              tree_method='exact', validate_parameters=1, verbosity=None)"
      ]
     },
     "execution_count": 21,
     "metadata": {},
     "output_type": "execute_result"
    }
   ],
   "source": [
    "xgb_model = xgb.XGBClassifier(n_estimators=100, max_depth=3, learning_rate=0.1, random_state=42)\n",
    "xgb_model.fit(X, Y)"
   ]
  },
  {
   "cell_type": "code",
   "execution_count": 22,
   "id": "e72e0659-98b1-4701-9055-cab0cde498bd",
   "metadata": {},
   "outputs": [
    {
     "data": {
      "text/plain": [
       "['./modellist/Q1_加盖装置定位故障5001.bin']"
      ]
     },
     "execution_count": 22,
     "metadata": {},
     "output_type": "execute_result"
    }
   ],
   "source": [
    "import joblib\n",
    "\n",
    "\n",
    "\n",
    "# save the model\n",
    "joblib.dump(xgb_model, './modellist/Q1_%s.bin'%kk)\n"
   ]
  },
  {
   "cell_type": "code",
   "execution_count": 23,
   "id": "0869a78f-5e23-4de3-bcc4-462a482f9c3c",
   "metadata": {},
   "outputs": [],
   "source": [
    "import shap\n",
    "import matplotlib.pyplot as plt\n",
    "plt.rcParams[\"font.sans-serif\"]=[\"SimHei\"] #设置字体\n",
    "plt.rcParams[\"axes.unicode_minus\"]=False #该语句解决图像中的“-”负号的乱码问题\n",
    "\n",
    "# 初始化SHAP模型\n",
    "explainer = shap.Explainer(xgb_model)\n",
    "\n",
    "# 计算SHAP值\n",
    "shap_values = explainer(X)"
   ]
  },
  {
   "cell_type": "code",
   "execution_count": 24,
   "id": "6e75ab52-33f9-4c42-b877-0a60c5d84837",
   "metadata": {},
   "outputs": [],
   "source": [
    "shap_df = pd.DataFrame(shap_values.values, columns=X.columns)"
   ]
  },
  {
   "cell_type": "code",
   "execution_count": 25,
   "id": "d084b516-037e-46a2-a35e-4eb39d678690",
   "metadata": {},
   "outputs": [],
   "source": [
    "# 输出每个特征的SHAP值（绝对值）\n",
    "features=[]\n",
    "abs_mean_shap_values=[]\n",
    "for i, feature in enumerate(X.columns):\n",
    "    abs_mean_shap_value = np.abs(shap_df.values[:, i]).mean()\n",
    "    features.append(feature)\n",
    "    abs_mean_shap_values.append(abs_mean_shap_value)\n"
   ]
  },
  {
   "cell_type": "code",
   "execution_count": 26,
   "id": "960a1ec6-7894-48e5-99e3-4ba6fa8e0dac",
   "metadata": {},
   "outputs": [],
   "source": [
    "tt=pd.DataFrame(features,columns=['features'])\n",
    "tt['shap_values']=abs_mean_shap_values"
   ]
  },
  {
   "cell_type": "code",
   "execution_count": 27,
   "id": "ea485a90-ffb4-44e9-b336-326a5ba52c7f",
   "metadata": {},
   "outputs": [
    {
     "data": {
      "text/html": [
       "<div>\n",
       "<style scoped>\n",
       "    .dataframe tbody tr th:only-of-type {\n",
       "        vertical-align: middle;\n",
       "    }\n",
       "\n",
       "    .dataframe tbody tr th {\n",
       "        vertical-align: top;\n",
       "    }\n",
       "\n",
       "    .dataframe thead th {\n",
       "        text-align: right;\n",
       "    }\n",
       "</style>\n",
       "<table border=\"1\" class=\"dataframe\">\n",
       "  <thead>\n",
       "    <tr style=\"text-align: right;\">\n",
       "      <th></th>\n",
       "      <th>features</th>\n",
       "      <th>shap_values</th>\n",
       "    </tr>\n",
       "  </thead>\n",
       "  <tbody>\n",
       "    <tr>\n",
       "      <th>8</th>\n",
       "      <td>填装定位器固定状态</td>\n",
       "      <td>2.066535</td>\n",
       "    </tr>\n",
       "    <tr>\n",
       "      <th>14</th>\n",
       "      <td>加盖检测数</td>\n",
       "      <td>1.512466</td>\n",
       "    </tr>\n",
       "    <tr>\n",
       "      <th>0</th>\n",
       "      <td>时间</td>\n",
       "      <td>0.990248</td>\n",
       "    </tr>\n",
       "    <tr>\n",
       "      <th>16</th>\n",
       "      <td>推盖数</td>\n",
       "      <td>0.898919</td>\n",
       "    </tr>\n",
       "    <tr>\n",
       "      <th>15</th>\n",
       "      <td>加盖定位数</td>\n",
       "      <td>0.838475</td>\n",
       "    </tr>\n",
       "    <tr>\n",
       "      <th>3</th>\n",
       "      <td>物料推送数</td>\n",
       "      <td>0.549360</td>\n",
       "    </tr>\n",
       "    <tr>\n",
       "      <th>7</th>\n",
       "      <td>填装检测数</td>\n",
       "      <td>0.347103</td>\n",
       "    </tr>\n",
       "    <tr>\n",
       "      <th>1</th>\n",
       "      <td>物料推送气缸推送状态</td>\n",
       "      <td>0.304356</td>\n",
       "    </tr>\n",
       "    <tr>\n",
       "      <th>4</th>\n",
       "      <td>物料待抓取数</td>\n",
       "      <td>0.210146</td>\n",
       "    </tr>\n",
       "    <tr>\n",
       "      <th>25</th>\n",
       "      <td>不合格数</td>\n",
       "      <td>0.030233</td>\n",
       "    </tr>\n",
       "    <tr>\n",
       "      <th>23</th>\n",
       "      <td>拧盖数</td>\n",
       "      <td>0.020790</td>\n",
       "    </tr>\n",
       "    <tr>\n",
       "      <th>24</th>\n",
       "      <td>合格数</td>\n",
       "      <td>0.015084</td>\n",
       "    </tr>\n",
       "    <tr>\n",
       "      <th>17</th>\n",
       "      <td>加盖下降数</td>\n",
       "      <td>0.010372</td>\n",
       "    </tr>\n",
       "    <tr>\n",
       "      <th>5</th>\n",
       "      <td>放置容器数</td>\n",
       "      <td>0.003785</td>\n",
       "    </tr>\n",
       "    <tr>\n",
       "      <th>10</th>\n",
       "      <td>物料抓取数</td>\n",
       "      <td>0.000000</td>\n",
       "    </tr>\n",
       "    <tr>\n",
       "      <th>11</th>\n",
       "      <td>填装旋转数</td>\n",
       "      <td>0.000000</td>\n",
       "    </tr>\n",
       "    <tr>\n",
       "      <th>12</th>\n",
       "      <td>填装下降数</td>\n",
       "      <td>0.000000</td>\n",
       "    </tr>\n",
       "    <tr>\n",
       "      <th>9</th>\n",
       "      <td>填装定位器放开状态</td>\n",
       "      <td>0.000000</td>\n",
       "    </tr>\n",
       "    <tr>\n",
       "      <th>6</th>\n",
       "      <td>容器上传检测数</td>\n",
       "      <td>0.000000</td>\n",
       "    </tr>\n",
       "    <tr>\n",
       "      <th>2</th>\n",
       "      <td>物料推送气缸收回状态</td>\n",
       "      <td>0.000000</td>\n",
       "    </tr>\n",
       "    <tr>\n",
       "      <th>18</th>\n",
       "      <td>加盖数</td>\n",
       "      <td>0.000000</td>\n",
       "    </tr>\n",
       "    <tr>\n",
       "      <th>19</th>\n",
       "      <td>拧盖检测数</td>\n",
       "      <td>0.000000</td>\n",
       "    </tr>\n",
       "    <tr>\n",
       "      <th>20</th>\n",
       "      <td>拧盖定位数</td>\n",
       "      <td>0.000000</td>\n",
       "    </tr>\n",
       "    <tr>\n",
       "      <th>21</th>\n",
       "      <td>拧盖下降数</td>\n",
       "      <td>0.000000</td>\n",
       "    </tr>\n",
       "    <tr>\n",
       "      <th>22</th>\n",
       "      <td>拧盖旋转数</td>\n",
       "      <td>0.000000</td>\n",
       "    </tr>\n",
       "    <tr>\n",
       "      <th>13</th>\n",
       "      <td>填装数</td>\n",
       "      <td>0.000000</td>\n",
       "    </tr>\n",
       "  </tbody>\n",
       "</table>\n",
       "</div>"
      ],
      "text/plain": [
       "      features  shap_values\n",
       "8    填装定位器固定状态     2.066535\n",
       "14       加盖检测数     1.512466\n",
       "0           时间     0.990248\n",
       "16         推盖数     0.898919\n",
       "15       加盖定位数     0.838475\n",
       "3        物料推送数     0.549360\n",
       "7        填装检测数     0.347103\n",
       "1   物料推送气缸推送状态     0.304356\n",
       "4       物料待抓取数     0.210146\n",
       "25        不合格数     0.030233\n",
       "23         拧盖数     0.020790\n",
       "24         合格数     0.015084\n",
       "17       加盖下降数     0.010372\n",
       "5        放置容器数     0.003785\n",
       "10       物料抓取数     0.000000\n",
       "11       填装旋转数     0.000000\n",
       "12       填装下降数     0.000000\n",
       "9    填装定位器放开状态     0.000000\n",
       "6      容器上传检测数     0.000000\n",
       "2   物料推送气缸收回状态     0.000000\n",
       "18         加盖数     0.000000\n",
       "19       拧盖检测数     0.000000\n",
       "20       拧盖定位数     0.000000\n",
       "21       拧盖下降数     0.000000\n",
       "22       拧盖旋转数     0.000000\n",
       "13         填装数     0.000000"
      ]
     },
     "execution_count": 27,
     "metadata": {},
     "output_type": "execute_result"
    }
   ],
   "source": [
    "tt.sort_values(by='shap_values', ascending=False)"
   ]
  },
  {
   "cell_type": "code",
   "execution_count": 28,
   "id": "5ce1db91-e945-4c22-b74e-98000fd9cc05",
   "metadata": {},
   "outputs": [
    {
     "data": {
      "image/png": "[encoded data removed]",
      "text/plain": [
       "<Figure size 576x576 with 1 Axes>"
      ]
     },
     "metadata": {},
     "output_type": "display_data"
    }
   ],
   "source": [
    "import pandas as pd\n",
    "import seaborn as sns\n",
    "import matplotlib.pyplot as plt\n",
    "import warnings \n",
    "warnings.filterwarnings('ignore')\n",
    "import matplotlib.pyplot as plt\n",
    "import seaborn as sns\n",
    " \n",
    "plt.rcParams['font.sans-serif'] = ['SimHei']  \n",
    "# Matplotlib中设置字体-黑体，解决Matplotlib中文乱码问题\n",
    "plt.rcParams['axes.unicode_minus'] = False    \n",
    "# 解决Matplotlib坐标轴负号'-'显示为方块的问题\n",
    "sns.set(font='SimHei')                        \n",
    "# Seaborn中设置字体-黑体，解决Seaborn中文乱码问题\n",
    "a_sorted = tt.sort_values(by='shap_values', ascending=False)\n",
    "\n",
    "# 设置图表大小，例如设置为宽10英寸，高6英寸\n",
    "plt.figure(figsize=(8, 8))\n",
    "# 使用Seaborn绘制柱状图\n",
    "sns.barplot(x='shap_values', y='features', data=a_sorted.reset_index(), orient='h')\n",
    "\n",
    "# 显示图形\n",
    "plt.show()"
   ]
  },
  {
   "cell_type": "code",
   "execution_count": null,
   "id": "c7bfad10-4ce9-4dd3-90c7-48b6af1d118a",
   "metadata": {},
   "outputs": [],
   "source": [
    "\n",
    "# 初始化SHAP模型\n",
    "explainer = shap.Explainer(xgb_model)\n",
    "\n",
    "shap.initjs() #初始化JS\n",
    "shap_values = explainer.shap_values(X) #计算每个样本的每个特征的SHAP值"
   ]
  },
  {
   "cell_type": "code",
   "execution_count": null,
   "id": "cac20a57-df9c-4fbb-9d05-be9b0f514a1b",
   "metadata": {},
   "outputs": [],
   "source": [
    "i=data[data[kk]==1].index[1]\n",
    "shap.force_plot(explainer.expected_value, shap_values[i,:], data[X.columns].iloc[i,:]) "
   ]
  },
  {
   "cell_type": "code",
   "execution_count": null,
   "id": "8a8dfd41-5974-42de-8c60-1ccb8a47115c",
   "metadata": {},
   "outputs": [],
   "source": [
    "i=data[data[kk]==0].index[0]\n",
    "shap.force_plot(explainer.expected_value, shap_values[i,:], data[X.columns].iloc[i,:]) "
   ]
  },
  {
   "cell_type": "code",
   "execution_count": null,
   "id": "00ae2891-af40-4c2d-8b80-5dab76dc9bc6",
   "metadata": {},
   "outputs": [],
   "source": [
    "print(1)\n",
    "shap.summary_plot(shap_values, X[X.columns])"
   ]
  }
 ],
 "metadata": {
  "kernelspec": {
   "display_name": "Python 3 (ipykernel)",
   "language": "python",
   "name": "python3"
  },
  "language_info": {
   "codemirror_mode": {
    "name": "ipython",
    "version": 3
   },
   "file_extension": ".py",
   "mimetype": "text/x-python",
   "name": "python",
   "nbconvert_exporter": "python",
   "pygments_lexer": "ipython3",
   "version": "3.11.5"
  }
 },
 "nbformat": 4,
 "nbformat_minor": 5
}
