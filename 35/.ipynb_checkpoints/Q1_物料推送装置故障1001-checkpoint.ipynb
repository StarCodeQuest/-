{
 "cells": [
  {
   "cell_type": "markdown",
   "id": "1ddd4730-d5b0-4721-b1ed-9d4be81f37c2",
   "metadata": {
    "tags": []
   },
   "source": [
    "# 导入部分"
   ]
  },
  {
   "cell_type": "code",
   "execution_count": 1,
   "id": "6b688dd0-3712-40ac-8837-5496ec57e66e",
   "metadata": {
    "tags": []
   },
   "outputs": [],
   "source": [
    "import pandas as pd\n",
    "import numpy as np\n",
    "\n",
    "import os\n",
    "import joblib\n",
    "\n",
    "from sklearn.metrics import mean_squared_error\n",
    "from statsmodels.tsa.arima.model import ARIMA\n",
    "from sklearn.metrics import accuracy_score, recall_score, f1_score, classification_report, roc_curve, auc\n",
    "\n",
    "# 导入模型训练和评估工具\n",
    "from sklearn.model_selection import train_test_split\n",
    "\n",
    "# 导入可视化库\n",
    "import matplotlib.pyplot as plt\n",
    "import seaborn as sns\n",
    "# 设置警告过滤器以忽略不必要的警告\n",
    "import warnings\n",
    "warnings.filterwarnings('ignore')\n",
    "\n",
    "# 配置matplotlib以支持中文字符，并进行美观调整\n",
    "plt.rcParams['font.sans-serif'] = ['simhei']  # 设置sans-serif字体为simhei\n",
    "plt.rcParams['font.serif'] = ['simhei']       # 设置serif字体为simhei\n",
    "plt.rcParams['axes.unicode_minus'] = False    # 确保负号显示正常\n",
    "\n",
    "# 配置seaborn以保持一致的美学风格和字体支持\n",
    "sns.set_style(\"darkgrid\", {\"font.sans-serif\": ['simhei', 'Droid Sans Fallback']})"
   ]
  },
  {
   "cell_type": "markdown",
   "id": "41c56f44-c88b-40bc-8957-8933fa888cf6",
   "metadata": {},
   "source": [
    "## 数据读取"
   ]
  },
  {
   "cell_type": "code",
   "execution_count": 2,
   "id": "73c79b6f-3291-4e87-85d0-3b2e147d2f4d",
   "metadata": {
    "tags": []
   },
   "outputs": [],
   "source": [
    "data = pd.read_csv('./Datasets/附件1/M101.csv')"
   ]
  },
  {
   "cell_type": "code",
   "execution_count": 3,
   "id": "b417d127-5931-4d91-9ee7-df96f1098662",
   "metadata": {
    "tags": []
   },
   "outputs": [
    {
     "data": {
      "text/html": [
       "<div>\n",
       "<style scoped>\n",
       "    .dataframe tbody tr th:only-of-type {\n",
       "        vertical-align: middle;\n",
       "    }\n",
       "\n",
       "    .dataframe tbody tr th {\n",
       "        vertical-align: top;\n",
       "    }\n",
       "\n",
       "    .dataframe thead th {\n",
       "        text-align: right;\n",
       "    }\n",
       "</style>\n",
       "<table border=\"1\" class=\"dataframe\">\n",
       "  <thead>\n",
       "    <tr style=\"text-align: right;\">\n",
       "      <th></th>\n",
       "      <th>日期</th>\n",
       "      <th>时间</th>\n",
       "      <th>生产线编号</th>\n",
       "      <th>物料推送气缸推送状态</th>\n",
       "      <th>物料推送气缸收回状态</th>\n",
       "      <th>物料推送数</th>\n",
       "      <th>物料待抓取数</th>\n",
       "      <th>放置容器数</th>\n",
       "      <th>容器上传检测数</th>\n",
       "      <th>填装检测数</th>\n",
       "      <th>...</th>\n",
       "      <th>不合格数</th>\n",
       "      <th>物料推送装置故障1001</th>\n",
       "      <th>物料检测装置故障2001</th>\n",
       "      <th>填装装置检测故障4001</th>\n",
       "      <th>填装装置定位故障4002</th>\n",
       "      <th>填装装置填装故障4003</th>\n",
       "      <th>加盖装置定位故障5001</th>\n",
       "      <th>加盖装置加盖故障5002</th>\n",
       "      <th>拧盖装置定位故障6001</th>\n",
       "      <th>拧盖装置拧盖故障6002</th>\n",
       "    </tr>\n",
       "  </thead>\n",
       "  <tbody>\n",
       "    <tr>\n",
       "      <th>0</th>\n",
       "      <td>1</td>\n",
       "      <td>0</td>\n",
       "      <td>M101</td>\n",
       "      <td>0</td>\n",
       "      <td>1</td>\n",
       "      <td>0</td>\n",
       "      <td>0</td>\n",
       "      <td>0</td>\n",
       "      <td>0</td>\n",
       "      <td>0</td>\n",
       "      <td>...</td>\n",
       "      <td>0</td>\n",
       "      <td>0</td>\n",
       "      <td>0</td>\n",
       "      <td>0</td>\n",
       "      <td>0</td>\n",
       "      <td>0</td>\n",
       "      <td>0</td>\n",
       "      <td>0</td>\n",
       "      <td>0</td>\n",
       "      <td>0</td>\n",
       "    </tr>\n",
       "    <tr>\n",
       "      <th>1</th>\n",
       "      <td>1</td>\n",
       "      <td>1</td>\n",
       "      <td>M101</td>\n",
       "      <td>1</td>\n",
       "      <td>0</td>\n",
       "      <td>1</td>\n",
       "      <td>0</td>\n",
       "      <td>0</td>\n",
       "      <td>0</td>\n",
       "      <td>0</td>\n",
       "      <td>...</td>\n",
       "      <td>0</td>\n",
       "      <td>0</td>\n",
       "      <td>0</td>\n",
       "      <td>0</td>\n",
       "      <td>0</td>\n",
       "      <td>0</td>\n",
       "      <td>0</td>\n",
       "      <td>0</td>\n",
       "      <td>0</td>\n",
       "      <td>0</td>\n",
       "    </tr>\n",
       "    <tr>\n",
       "      <th>2</th>\n",
       "      <td>1</td>\n",
       "      <td>2</td>\n",
       "      <td>M101</td>\n",
       "      <td>0</td>\n",
       "      <td>1</td>\n",
       "      <td>1</td>\n",
       "      <td>0</td>\n",
       "      <td>0</td>\n",
       "      <td>0</td>\n",
       "      <td>0</td>\n",
       "      <td>...</td>\n",
       "      <td>0</td>\n",
       "      <td>0</td>\n",
       "      <td>0</td>\n",
       "      <td>0</td>\n",
       "      <td>0</td>\n",
       "      <td>0</td>\n",
       "      <td>0</td>\n",
       "      <td>0</td>\n",
       "      <td>0</td>\n",
       "      <td>0</td>\n",
       "    </tr>\n",
       "    <tr>\n",
       "      <th>3</th>\n",
       "      <td>1</td>\n",
       "      <td>3</td>\n",
       "      <td>M101</td>\n",
       "      <td>1</td>\n",
       "      <td>0</td>\n",
       "      <td>2</td>\n",
       "      <td>0</td>\n",
       "      <td>0</td>\n",
       "      <td>0</td>\n",
       "      <td>0</td>\n",
       "      <td>...</td>\n",
       "      <td>0</td>\n",
       "      <td>0</td>\n",
       "      <td>0</td>\n",
       "      <td>0</td>\n",
       "      <td>0</td>\n",
       "      <td>0</td>\n",
       "      <td>0</td>\n",
       "      <td>0</td>\n",
       "      <td>0</td>\n",
       "      <td>0</td>\n",
       "    </tr>\n",
       "    <tr>\n",
       "      <th>4</th>\n",
       "      <td>1</td>\n",
       "      <td>4</td>\n",
       "      <td>M101</td>\n",
       "      <td>0</td>\n",
       "      <td>1</td>\n",
       "      <td>2</td>\n",
       "      <td>1</td>\n",
       "      <td>1</td>\n",
       "      <td>0</td>\n",
       "      <td>0</td>\n",
       "      <td>...</td>\n",
       "      <td>0</td>\n",
       "      <td>0</td>\n",
       "      <td>0</td>\n",
       "      <td>0</td>\n",
       "      <td>0</td>\n",
       "      <td>0</td>\n",
       "      <td>0</td>\n",
       "      <td>0</td>\n",
       "      <td>0</td>\n",
       "      <td>0</td>\n",
       "    </tr>\n",
       "    <tr>\n",
       "      <th>5</th>\n",
       "      <td>1</td>\n",
       "      <td>5</td>\n",
       "      <td>M101</td>\n",
       "      <td>1</td>\n",
       "      <td>0</td>\n",
       "      <td>3</td>\n",
       "      <td>1</td>\n",
       "      <td>1</td>\n",
       "      <td>0</td>\n",
       "      <td>0</td>\n",
       "      <td>...</td>\n",
       "      <td>0</td>\n",
       "      <td>0</td>\n",
       "      <td>0</td>\n",
       "      <td>0</td>\n",
       "      <td>0</td>\n",
       "      <td>0</td>\n",
       "      <td>0</td>\n",
       "      <td>0</td>\n",
       "      <td>0</td>\n",
       "      <td>0</td>\n",
       "    </tr>\n",
       "    <tr>\n",
       "      <th>6</th>\n",
       "      <td>1</td>\n",
       "      <td>6</td>\n",
       "      <td>M101</td>\n",
       "      <td>0</td>\n",
       "      <td>1</td>\n",
       "      <td>3</td>\n",
       "      <td>2</td>\n",
       "      <td>1</td>\n",
       "      <td>0</td>\n",
       "      <td>0</td>\n",
       "      <td>...</td>\n",
       "      <td>0</td>\n",
       "      <td>0</td>\n",
       "      <td>0</td>\n",
       "      <td>0</td>\n",
       "      <td>0</td>\n",
       "      <td>0</td>\n",
       "      <td>0</td>\n",
       "      <td>0</td>\n",
       "      <td>0</td>\n",
       "      <td>0</td>\n",
       "    </tr>\n",
       "    <tr>\n",
       "      <th>7</th>\n",
       "      <td>1</td>\n",
       "      <td>7</td>\n",
       "      <td>M101</td>\n",
       "      <td>0</td>\n",
       "      <td>1</td>\n",
       "      <td>3</td>\n",
       "      <td>2</td>\n",
       "      <td>2</td>\n",
       "      <td>0</td>\n",
       "      <td>0</td>\n",
       "      <td>...</td>\n",
       "      <td>0</td>\n",
       "      <td>0</td>\n",
       "      <td>0</td>\n",
       "      <td>0</td>\n",
       "      <td>0</td>\n",
       "      <td>0</td>\n",
       "      <td>0</td>\n",
       "      <td>0</td>\n",
       "      <td>0</td>\n",
       "      <td>0</td>\n",
       "    </tr>\n",
       "    <tr>\n",
       "      <th>8</th>\n",
       "      <td>1</td>\n",
       "      <td>8</td>\n",
       "      <td>M101</td>\n",
       "      <td>0</td>\n",
       "      <td>1</td>\n",
       "      <td>3</td>\n",
       "      <td>3</td>\n",
       "      <td>2</td>\n",
       "      <td>1</td>\n",
       "      <td>0</td>\n",
       "      <td>...</td>\n",
       "      <td>0</td>\n",
       "      <td>0</td>\n",
       "      <td>0</td>\n",
       "      <td>0</td>\n",
       "      <td>0</td>\n",
       "      <td>0</td>\n",
       "      <td>0</td>\n",
       "      <td>0</td>\n",
       "      <td>0</td>\n",
       "      <td>0</td>\n",
       "    </tr>\n",
       "    <tr>\n",
       "      <th>9</th>\n",
       "      <td>1</td>\n",
       "      <td>9</td>\n",
       "      <td>M101</td>\n",
       "      <td>0</td>\n",
       "      <td>1</td>\n",
       "      <td>3</td>\n",
       "      <td>3</td>\n",
       "      <td>2</td>\n",
       "      <td>1</td>\n",
       "      <td>0</td>\n",
       "      <td>...</td>\n",
       "      <td>0</td>\n",
       "      <td>0</td>\n",
       "      <td>0</td>\n",
       "      <td>0</td>\n",
       "      <td>0</td>\n",
       "      <td>0</td>\n",
       "      <td>0</td>\n",
       "      <td>0</td>\n",
       "      <td>0</td>\n",
       "      <td>0</td>\n",
       "    </tr>\n",
       "  </tbody>\n",
       "</table>\n",
       "<p>10 rows × 37 columns</p>\n",
       "</div>"
      ],
      "text/plain": [
       "   日期  时间 生产线编号  物料推送气缸推送状态  物料推送气缸收回状态  物料推送数  物料待抓取数  放置容器数  容器上传检测数  填装检测数  \\\n",
       "0   1   0  M101           0           1      0       0      0        0      0   \n",
       "1   1   1  M101           1           0      1       0      0        0      0   \n",
       "2   1   2  M101           0           1      1       0      0        0      0   \n",
       "3   1   3  M101           1           0      2       0      0        0      0   \n",
       "4   1   4  M101           0           1      2       1      1        0      0   \n",
       "5   1   5  M101           1           0      3       1      1        0      0   \n",
       "6   1   6  M101           0           1      3       2      1        0      0   \n",
       "7   1   7  M101           0           1      3       2      2        0      0   \n",
       "8   1   8  M101           0           1      3       3      2        1      0   \n",
       "9   1   9  M101           0           1      3       3      2        1      0   \n",
       "\n",
       "   ...  不合格数  物料推送装置故障1001  物料检测装置故障2001  填装装置检测故障4001  填装装置定位故障4002  \\\n",
       "0  ...     0             0             0             0             0   \n",
       "1  ...     0             0             0             0             0   \n",
       "2  ...     0             0             0             0             0   \n",
       "3  ...     0             0             0             0             0   \n",
       "4  ...     0             0             0             0             0   \n",
       "5  ...     0             0             0             0             0   \n",
       "6  ...     0             0             0             0             0   \n",
       "7  ...     0             0             0             0             0   \n",
       "8  ...     0             0             0             0             0   \n",
       "9  ...     0             0             0             0             0   \n",
       "\n",
       "   填装装置填装故障4003  加盖装置定位故障5001  加盖装置加盖故障5002  拧盖装置定位故障6001  拧盖装置拧盖故障6002  \n",
       "0             0             0             0             0             0  \n",
       "1             0             0             0             0             0  \n",
       "2             0             0             0             0             0  \n",
       "3             0             0             0             0             0  \n",
       "4             0             0             0             0             0  \n",
       "5             0             0             0             0             0  \n",
       "6             0             0             0             0             0  \n",
       "7             0             0             0             0             0  \n",
       "8             0             0             0             0             0  \n",
       "9             0             0             0             0             0  \n",
       "\n",
       "[10 rows x 37 columns]"
      ]
     },
     "execution_count": 3,
     "metadata": {},
     "output_type": "execute_result"
    }
   ],
   "source": [
    "data.head(10)"
   ]
  },
  {
   "cell_type": "markdown",
   "id": "81c5c056-5ced-439b-8fe0-9fa9117c801a",
   "metadata": {
    "tags": []
   },
   "source": [
    "## 处理缺失值"
   ]
  },
  {
   "cell_type": "code",
   "execution_count": 4,
   "id": "f20425eb-1774-4b43-9cdd-e985e7a52ad1",
   "metadata": {
    "tags": []
   },
   "outputs": [],
   "source": [
    "data.fillna(0, inplace=True)"
   ]
  },
  {
   "cell_type": "markdown",
   "id": "6b5395bc-607e-46a6-9114-88e9dff868d0",
   "metadata": {
    "tags": []
   },
   "source": [
    "# 探索性数据分析（EDA）"
   ]
  },
  {
   "cell_type": "code",
   "execution_count": 5,
   "id": "b0099357-8dc4-4b65-8c0b-144603b68f16",
   "metadata": {
    "tags": []
   },
   "outputs": [
    {
     "data": {
      "text/html": [
       "<div>\n",
       "<style scoped>\n",
       "    .dataframe tbody tr th:only-of-type {\n",
       "        vertical-align: middle;\n",
       "    }\n",
       "\n",
       "    .dataframe tbody tr th {\n",
       "        vertical-align: top;\n",
       "    }\n",
       "\n",
       "    .dataframe thead th {\n",
       "        text-align: right;\n",
       "    }\n",
       "</style>\n",
       "<table border=\"1\" class=\"dataframe\">\n",
       "  <thead>\n",
       "    <tr style=\"text-align: right;\">\n",
       "      <th></th>\n",
       "      <th>故障类型</th>\n",
       "      <th>正常运行</th>\n",
       "      <th>发生故障</th>\n",
       "    </tr>\n",
       "  </thead>\n",
       "  <tbody>\n",
       "    <tr>\n",
       "      <th>0</th>\n",
       "      <td>物料推送装置故障1001</td>\n",
       "      <td>632235</td>\n",
       "      <td>4274</td>\n",
       "    </tr>\n",
       "    <tr>\n",
       "      <th>1</th>\n",
       "      <td>物料检测装置故障2001</td>\n",
       "      <td>636005</td>\n",
       "      <td>504</td>\n",
       "    </tr>\n",
       "    <tr>\n",
       "      <th>2</th>\n",
       "      <td>填装装置检测故障4001</td>\n",
       "      <td>634998</td>\n",
       "      <td>1511</td>\n",
       "    </tr>\n",
       "    <tr>\n",
       "      <th>3</th>\n",
       "      <td>填装装置定位故障4002</td>\n",
       "      <td>633576</td>\n",
       "      <td>2933</td>\n",
       "    </tr>\n",
       "    <tr>\n",
       "      <th>4</th>\n",
       "      <td>填装装置填装故障4003</td>\n",
       "      <td>633797</td>\n",
       "      <td>2712</td>\n",
       "    </tr>\n",
       "    <tr>\n",
       "      <th>5</th>\n",
       "      <td>加盖装置定位故障5001</td>\n",
       "      <td>633964</td>\n",
       "      <td>2545</td>\n",
       "    </tr>\n",
       "    <tr>\n",
       "      <th>6</th>\n",
       "      <td>加盖装置加盖故障5002</td>\n",
       "      <td>634300</td>\n",
       "      <td>2209</td>\n",
       "    </tr>\n",
       "    <tr>\n",
       "      <th>7</th>\n",
       "      <td>拧盖装置定位故障6001</td>\n",
       "      <td>634480</td>\n",
       "      <td>2029</td>\n",
       "    </tr>\n",
       "    <tr>\n",
       "      <th>8</th>\n",
       "      <td>拧盖装置拧盖故障6002</td>\n",
       "      <td>633848</td>\n",
       "      <td>2661</td>\n",
       "    </tr>\n",
       "  </tbody>\n",
       "</table>\n",
       "</div>"
      ],
      "text/plain": [
       "           故障类型    正常运行  发生故障\n",
       "0  物料推送装置故障1001  632235  4274\n",
       "1  物料检测装置故障2001  636005   504\n",
       "2  填装装置检测故障4001  634998  1511\n",
       "3  填装装置定位故障4002  633576  2933\n",
       "4  填装装置填装故障4003  633797  2712\n",
       "5  加盖装置定位故障5001  633964  2545\n",
       "6  加盖装置加盖故障5002  634300  2209\n",
       "7  拧盖装置定位故障6001  634480  2029\n",
       "8  拧盖装置拧盖故障6002  633848  2661"
      ]
     },
     "execution_count": 5,
     "metadata": {},
     "output_type": "execute_result"
    }
   ],
   "source": [
    "import warnings\n",
    "\n",
    "warnings.filterwarnings('ignore', category=FutureWarning)\n",
    "\n",
    "summary_df = pd.DataFrame(columns=['故障类型', '正常运行', '发生故障'])\n",
    "\n",
    "\n",
    "for column in data.columns:\n",
    "    zero_count = data[column].value_counts().get(0, 0)  # 计算值为0的个数，正确使用.get()\n",
    "    \n",
    "    try:\n",
    "        fault_code = int(column[-4:])  # 尝试将列名最后4个字符转换为整数\n",
    "        fault_count = data[column].value_counts().get(fault_code, 0)  # 计算故障码对应的个数\n",
    "    except ValueError:\n",
    "        continue  # 跳过当前列的处理\n",
    "\n",
    "    # 将当前故障的统计信息作为新行添加到summary_df中\n",
    "    new_row = pd.DataFrame([[column, zero_count, fault_count]], columns=['故障类型', '正常运行', '发生故障'])\n",
    "    summary_df = pd.concat([summary_df, new_row], ignore_index=True)\n",
    "\n",
    "summary_df"
   ]
  },
  {
   "cell_type": "markdown",
   "id": "a05c19c8-a4ad-4462-86bd-989ea1bd4a2a",
   "metadata": {},
   "source": [
    "# 特征工程"
   ]
  },
  {
   "cell_type": "markdown",
   "id": "665aca93-1c68-44bb-8dea-d325a281c64e",
   "metadata": {},
   "source": [
    "## 计算故障总数及故障率"
   ]
  },
  {
   "cell_type": "code",
   "execution_count": 6,
   "id": "20c6673c-2706-488e-a030-e3885919115a",
   "metadata": {
    "tags": []
   },
   "outputs": [],
   "source": [
    "# 计算总条目数\n",
    "total_entries = len(data)\n",
    "# 计算故障率\n",
    "fault_columns = ['物料推送装置故障1001', '物料检测装置故障2001', '填装装置检测故障4001', \n",
    "                 '填装装置定位故障4002', '填装装置填装故障4003', '加盖装置定位故障5001', \n",
    "                 '加盖装置加盖故障5002', '拧盖装置定位故障6001', '拧盖装置拧盖故障6002']\n",
    "\n",
    "data['故障总数'] = data[fault_columns].sum(axis=1)\n",
    "data['故障率'] = data['故障总数'] / total_entries*100"
   ]
  },
  {
   "cell_type": "code",
   "execution_count": 7,
   "id": "bec3c66e-5f35-4636-b50d-395a1b6c9269",
   "metadata": {
    "tags": []
   },
   "outputs": [
    {
     "data": {
      "text/plain": [
       "故障总数\n",
       "0       615131\n",
       "1001      4274\n",
       "4002      2933\n",
       "4003      2712\n",
       "6002      2661\n",
       "5001      2545\n",
       "5002      2209\n",
       "6001      2029\n",
       "4001      1511\n",
       "2001       504\n",
       "Name: count, dtype: int64"
      ]
     },
     "execution_count": 7,
     "metadata": {},
     "output_type": "execute_result"
    }
   ],
   "source": [
    "data['故障总数'].value_counts()"
   ]
  },
  {
   "cell_type": "code",
   "execution_count": 8,
   "id": "e8445b9b-297e-4f06-802e-b90c70c0a3d7",
   "metadata": {
    "tags": []
   },
   "outputs": [
    {
     "data": {
      "text/plain": [
       "故障率\n",
       "0.000000    615131\n",
       "0.157264      4274\n",
       "0.628742      2933\n",
       "0.628899      2712\n",
       "0.942956      2661\n",
       "0.785692      2545\n",
       "0.785849      2209\n",
       "0.942799      2029\n",
       "0.628585      1511\n",
       "0.314371       504\n",
       "Name: count, dtype: int64"
      ]
     },
     "execution_count": 8,
     "metadata": {},
     "output_type": "execute_result"
    }
   ],
   "source": [
    "data['故障率'].value_counts()"
   ]
  },
  {
   "cell_type": "markdown",
   "id": "b4848fdf-43f9-4700-a38f-97ccf8c1cc3b",
   "metadata": {},
   "source": [
    "## 封装构建ARIMA模型"
   ]
  },
  {
   "cell_type": "code",
   "execution_count": 9,
   "id": "4eb1a74d-a00f-48fd-ba4c-36a9662eb213",
   "metadata": {
    "tags": []
   },
   "outputs": [],
   "source": [
    "def train_arima_model(train_data, test_data, order=(5, 1, 0), save_path=None, model_name=\"ARIMA_Model\"):\n",
    "    # 创建并训练 ARIMA 模型\n",
    "    model = ARIMA(train_data, order=order)\n",
    "    model_fit = model.fit()\n",
    "    \n",
    "    # 进行预测\n",
    "    predictions = model_fit.forecast(steps=len(test_data))[0]\n",
    "    print(\"预测值:\", predictions)  # 添加对预测值的打印\n",
    "    \n",
    "    # 计算评估指标\n",
    "    mse = mean_squared_error(test_data, predictions)\n",
    "    rmse = np.sqrt(mse)\n",
    "    print(\"均方误差（MSE）:\", mse)\n",
    "    print(\"均方根误差（RMSE）:\", rmse)\n",
    "    \n",
    "    # 可视化实际值与预测值\n",
    "    plt.plot(test_data, label='实际值')\n",
    "    plt.plot(predictions, color='red', label='预测值')\n",
    "    plt.legend()\n",
    "    plt.show()\n",
    "    \n",
    "    # 保存模型\n",
    "    if save_path:\n",
    "        os.makedirs(save_path, exist_ok=True)\n",
    "        model_file_path = os.path.join(save_path, f\"{model_name}.joblib\")\n",
    "        joblib.dump(model_fit, model_file_path)\n",
    "    \n",
    "    return model_fit"
   ]
  },
  {
   "cell_type": "markdown",
   "id": "107fd406-0e4c-4825-850a-04d998c7059f",
   "metadata": {},
   "source": [
    "# 模型汇总"
   ]
  },
  {
   "cell_type": "markdown",
   "id": "e90099e5-585b-47c3-b811-0deeb837a7fe",
   "metadata": {},
   "source": [
    "## 原数据"
   ]
  },
  {
   "cell_type": "code",
   "execution_count": 10,
   "id": "1c75772f-9c4c-43da-a4de-d6ff40d51b38",
   "metadata": {
    "tags": []
   },
   "outputs": [],
   "source": [
    "train_data = data['物料推送装置故障1001'].values\n",
    "#75% 作为训练集，25% 作为测试集\n",
    "train_ratio = 0.75\n",
    "split_index = int(len(train_data) * train_ratio)\n",
    "train_set = train_data[:split_index]\n",
    "test_set = train_data[split_index:]"
   ]
  },
  {
   "cell_type": "code",
   "execution_count": 11,
   "id": "512d0100-3b57-4e5d-ab64-2b40ab8526e9",
   "metadata": {
    "tags": []
   },
   "outputs": [
    {
     "data": {
      "text/plain": [
       "array([0, 0, 0, ..., 0, 0, 0], dtype=int64)"
      ]
     },
     "execution_count": 11,
     "metadata": {},
     "output_type": "execute_result"
    }
   ],
   "source": [
    "train_data"
   ]
  },
  {
   "cell_type": "code",
   "execution_count": 12,
   "id": "6c4a7d45-5a94-4ac8-ab84-a383f76ff7e3",
   "metadata": {
    "tags": []
   },
   "outputs": [
    {
     "name": "stdout",
     "output_type": "stream",
     "text": [
      "预测值: 0.0\n"
     ]
    },
    {
     "ename": "InvalidParameterError",
     "evalue": "The 'y_pred' parameter of mean_squared_error must be an array-like. Got 0.0 instead.",
     "output_type": "error",
     "traceback": [
      "\u001b[1;31m---------------------------------------------------------------------------\u001b[0m",
      "\u001b[1;31mInvalidParameterError\u001b[0m                     Traceback (most recent call last)",
      "Cell \u001b[1;32mIn[12], line 2\u001b[0m\n\u001b[0;32m      1\u001b[0m save_path \u001b[38;5;241m=\u001b[39m \u001b[38;5;124m\"\u001b[39m\u001b[38;5;124m./Models/1001/\u001b[39m\u001b[38;5;124m\"\u001b[39m\n\u001b[1;32m----> 2\u001b[0m train_arima_model(train_set,test_set,order\u001b[38;5;241m=\u001b[39m(\u001b[38;5;241m5\u001b[39m, \u001b[38;5;241m1\u001b[39m, \u001b[38;5;241m0\u001b[39m), save_path\u001b[38;5;241m=\u001b[39msave_path)\n",
      "Cell \u001b[1;32mIn[9], line 11\u001b[0m, in \u001b[0;36mtrain_arima_model\u001b[1;34m(train_data, test_data, order, save_path, model_name)\u001b[0m\n\u001b[0;32m      8\u001b[0m \u001b[38;5;28mprint\u001b[39m(\u001b[38;5;124m\"\u001b[39m\u001b[38;5;124m预测值:\u001b[39m\u001b[38;5;124m\"\u001b[39m, predictions)  \u001b[38;5;66;03m# 添加对预测值的打印\u001b[39;00m\n\u001b[0;32m     10\u001b[0m \u001b[38;5;66;03m# 计算评估指标\u001b[39;00m\n\u001b[1;32m---> 11\u001b[0m mse \u001b[38;5;241m=\u001b[39m mean_squared_error(test_data, predictions)\n\u001b[0;32m     12\u001b[0m rmse \u001b[38;5;241m=\u001b[39m np\u001b[38;5;241m.\u001b[39msqrt(mse)\n\u001b[0;32m     13\u001b[0m \u001b[38;5;28mprint\u001b[39m(\u001b[38;5;124m\"\u001b[39m\u001b[38;5;124m均方误差（MSE）:\u001b[39m\u001b[38;5;124m\"\u001b[39m, mse)\n",
      "File \u001b[1;32m~\\AppData\\Roaming\\Python\\Python311\\site-packages\\sklearn\\utils\\_param_validation.py:203\u001b[0m, in \u001b[0;36mvalidate_params.<locals>.decorator.<locals>.wrapper\u001b[1;34m(*args, **kwargs)\u001b[0m\n\u001b[0;32m    200\u001b[0m to_ignore \u001b[38;5;241m+\u001b[39m\u001b[38;5;241m=\u001b[39m [\u001b[38;5;124m\"\u001b[39m\u001b[38;5;124mself\u001b[39m\u001b[38;5;124m\"\u001b[39m, \u001b[38;5;124m\"\u001b[39m\u001b[38;5;124mcls\u001b[39m\u001b[38;5;124m\"\u001b[39m]\n\u001b[0;32m    201\u001b[0m params \u001b[38;5;241m=\u001b[39m {k: v \u001b[38;5;28;01mfor\u001b[39;00m k, v \u001b[38;5;129;01min\u001b[39;00m params\u001b[38;5;241m.\u001b[39marguments\u001b[38;5;241m.\u001b[39mitems() \u001b[38;5;28;01mif\u001b[39;00m k \u001b[38;5;129;01mnot\u001b[39;00m \u001b[38;5;129;01min\u001b[39;00m to_ignore}\n\u001b[1;32m--> 203\u001b[0m validate_parameter_constraints(\n\u001b[0;32m    204\u001b[0m     parameter_constraints, params, caller_name\u001b[38;5;241m=\u001b[39mfunc\u001b[38;5;241m.\u001b[39m\u001b[38;5;18m__qualname__\u001b[39m\n\u001b[0;32m    205\u001b[0m )\n\u001b[0;32m    207\u001b[0m \u001b[38;5;28;01mtry\u001b[39;00m:\n\u001b[0;32m    208\u001b[0m     \u001b[38;5;28;01mwith\u001b[39;00m config_context(\n\u001b[0;32m    209\u001b[0m         skip_parameter_validation\u001b[38;5;241m=\u001b[39m(\n\u001b[0;32m    210\u001b[0m             prefer_skip_nested_validation \u001b[38;5;129;01mor\u001b[39;00m global_skip_validation\n\u001b[0;32m    211\u001b[0m         )\n\u001b[0;32m    212\u001b[0m     ):\n",
      "File \u001b[1;32m~\\AppData\\Roaming\\Python\\Python311\\site-packages\\sklearn\\utils\\_param_validation.py:95\u001b[0m, in \u001b[0;36mvalidate_parameter_constraints\u001b[1;34m(parameter_constraints, params, caller_name)\u001b[0m\n\u001b[0;32m     89\u001b[0m \u001b[38;5;28;01melse\u001b[39;00m:\n\u001b[0;32m     90\u001b[0m     constraints_str \u001b[38;5;241m=\u001b[39m (\n\u001b[0;32m     91\u001b[0m         \u001b[38;5;124mf\u001b[39m\u001b[38;5;124m\"\u001b[39m\u001b[38;5;132;01m{\u001b[39;00m\u001b[38;5;124m'\u001b[39m\u001b[38;5;124m, \u001b[39m\u001b[38;5;124m'\u001b[39m\u001b[38;5;241m.\u001b[39mjoin([\u001b[38;5;28mstr\u001b[39m(c)\u001b[38;5;250m \u001b[39m\u001b[38;5;28;01mfor\u001b[39;00m\u001b[38;5;250m \u001b[39mc\u001b[38;5;250m \u001b[39m\u001b[38;5;129;01min\u001b[39;00m\u001b[38;5;250m \u001b[39mconstraints[:\u001b[38;5;241m-\u001b[39m\u001b[38;5;241m1\u001b[39m]])\u001b[38;5;132;01m}\u001b[39;00m\u001b[38;5;124m or\u001b[39m\u001b[38;5;124m\"\u001b[39m\n\u001b[0;32m     92\u001b[0m         \u001b[38;5;124mf\u001b[39m\u001b[38;5;124m\"\u001b[39m\u001b[38;5;124m \u001b[39m\u001b[38;5;132;01m{\u001b[39;00mconstraints[\u001b[38;5;241m-\u001b[39m\u001b[38;5;241m1\u001b[39m]\u001b[38;5;132;01m}\u001b[39;00m\u001b[38;5;124m\"\u001b[39m\n\u001b[0;32m     93\u001b[0m     )\n\u001b[1;32m---> 95\u001b[0m \u001b[38;5;28;01mraise\u001b[39;00m InvalidParameterError(\n\u001b[0;32m     96\u001b[0m     \u001b[38;5;124mf\u001b[39m\u001b[38;5;124m\"\u001b[39m\u001b[38;5;124mThe \u001b[39m\u001b[38;5;132;01m{\u001b[39;00mparam_name\u001b[38;5;132;01m!r}\u001b[39;00m\u001b[38;5;124m parameter of \u001b[39m\u001b[38;5;132;01m{\u001b[39;00mcaller_name\u001b[38;5;132;01m}\u001b[39;00m\u001b[38;5;124m must be\u001b[39m\u001b[38;5;124m\"\u001b[39m\n\u001b[0;32m     97\u001b[0m     \u001b[38;5;124mf\u001b[39m\u001b[38;5;124m\"\u001b[39m\u001b[38;5;124m \u001b[39m\u001b[38;5;132;01m{\u001b[39;00mconstraints_str\u001b[38;5;132;01m}\u001b[39;00m\u001b[38;5;124m. Got \u001b[39m\u001b[38;5;132;01m{\u001b[39;00mparam_val\u001b[38;5;132;01m!r}\u001b[39;00m\u001b[38;5;124m instead.\u001b[39m\u001b[38;5;124m\"\u001b[39m\n\u001b[0;32m     98\u001b[0m )\n",
      "\u001b[1;31mInvalidParameterError\u001b[0m: The 'y_pred' parameter of mean_squared_error must be an array-like. Got 0.0 instead."
     ]
    }
   ],
   "source": [
    "save_path = \"./Models/1001/\"\n",
    "train_arima_model(train_set,test_set,order=(5, 1, 0), save_path=save_path)"
   ]
  },
  {
   "cell_type": "code",
   "execution_count": null,
   "id": "82ebc4d3-64f0-4141-aae9-edfdcbca6200",
   "metadata": {},
   "outputs": [],
   "source": []
  }
 ],
 "metadata": {
  "kernelspec": {
   "display_name": "Python 3 (ipykernel)",
   "language": "python",
   "name": "python3"
  },
  "language_info": {
   "codemirror_mode": {
    "name": "ipython",
    "version": 3
   },
   "file_extension": ".py",
   "mimetype": "text/x-python",
   "name": "python",
   "nbconvert_exporter": "python",
   "pygments_lexer": "ipython3",
   "version": "3.11.5"
  }
 },
 "nbformat": 4,
 "nbformat_minor": 5
}
